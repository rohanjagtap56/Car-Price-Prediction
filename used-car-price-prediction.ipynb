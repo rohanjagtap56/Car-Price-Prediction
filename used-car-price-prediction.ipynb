{
 "cells": [
  {
   "cell_type": "markdown",
   "id": "6901a206",
   "metadata": {
    "papermill": {
     "duration": 0.035207,
     "end_time": "2024-01-16T16:45:20.976148",
     "exception": false,
     "start_time": "2024-01-16T16:45:20.940941",
     "status": "completed"
    },
    "tags": []
   },
   "source": [
    "# Used Car Price Prediction"
   ]
  },
  {
   "cell_type": "code",
   "execution_count": 1,
   "id": "ecd923ab",
   "metadata": {
    "execution": {
     "iopub.execute_input": "2024-01-16T16:45:21.050480Z",
     "iopub.status.busy": "2024-01-16T16:45:21.049978Z",
     "iopub.status.idle": "2024-01-16T16:45:21.055893Z",
     "shell.execute_reply": "2024-01-16T16:45:21.054692Z"
    },
    "papermill": {
     "duration": 0.045655,
     "end_time": "2024-01-16T16:45:21.058627",
     "exception": false,
     "start_time": "2024-01-16T16:45:21.012972",
     "status": "completed"
    },
    "tags": []
   },
   "outputs": [],
   "source": [
    "# Downloading Nessassary Libraries\n",
    "# !pip install pandas\n",
    "# !pip install numpy\n",
    "# !pip install matplotlib\n",
    "# !pip install scikit-learn"
   ]
  },
  {
   "cell_type": "code",
   "execution_count": 1,
   "id": "71653e14",
   "metadata": {
    "papermill": {
     "duration": 1.890428,
     "end_time": "2024-01-16T16:45:22.984361",
     "exception": false,
     "start_time": "2024-01-16T16:45:21.093933",
     "status": "completed"
    },
    "tags": []
   },
   "outputs": [],
   "source": [
    "# Importing Libraries\n",
    "import pandas as pd\n",
    "import numpy as np\n",
    "\n",
    "# VIsualization Libraries\n",
    "import matplotlib.pyplot as plt\n",
    "%matplotlib inline\n",
    "import seaborn as sns\n",
    "\n",
    "# Ignore all warnings\n",
    "import warnings\n",
    "warnings.filterwarnings('ignore')"
   ]
  },
  {
   "cell_type": "markdown",
   "id": "29acadcf",
   "metadata": {
    "papermill": {
     "duration": 0.126457,
     "end_time": "2024-01-16T16:45:23.144992",
     "exception": false,
     "start_time": "2024-01-16T16:45:23.018535",
     "status": "completed"
    },
    "tags": []
   },
   "source": [
    "###"
   ]
  },
  {
   "cell_type": "markdown",
   "id": "0c761ed4",
   "metadata": {
    "papermill": {
     "duration": 0.033821,
     "end_time": "2024-01-16T16:45:23.213158",
     "exception": false,
     "start_time": "2024-01-16T16:45:23.179337",
     "status": "completed"
    },
    "tags": []
   },
   "source": [
    "## Data Preprocessing"
   ]
  },
  {
   "cell_type": "markdown",
   "id": "ae004db4",
   "metadata": {
    "papermill": {
     "duration": 0.033829,
     "end_time": "2024-01-16T16:45:23.281071",
     "exception": false,
     "start_time": "2024-01-16T16:45:23.247242",
     "status": "completed"
    },
    "tags": []
   },
   "source": [
    "### Loading Dataset"
   ]
  },
  {
   "cell_type": "code",
   "execution_count": 2,
   "id": "061acc35",
   "metadata": {
    "papermill": {
     "duration": 0.078278,
     "end_time": "2024-01-16T16:45:23.393424",
     "exception": false,
     "start_time": "2024-01-16T16:45:23.315146",
     "status": "completed"
    },
    "tags": []
   },
   "outputs": [],
   "source": [
    "df = pd.read_csv(\"used_car_dataset.csv\")"
   ]
  },
  {
   "cell_type": "code",
   "execution_count": 3,
   "id": "1a8e2c20",
   "metadata": {
    "papermill": {
     "duration": 0.06522,
     "end_time": "2024-01-16T16:45:23.493270",
     "exception": false,
     "start_time": "2024-01-16T16:45:23.428050",
     "status": "completed"
    },
    "tags": []
   },
   "outputs": [
    {
     "data": {
      "text/html": [
       "<div>\n",
       "<style scoped>\n",
       "    .dataframe tbody tr th:only-of-type {\n",
       "        vertical-align: middle;\n",
       "    }\n",
       "\n",
       "    .dataframe tbody tr th {\n",
       "        vertical-align: top;\n",
       "    }\n",
       "\n",
       "    .dataframe thead th {\n",
       "        text-align: right;\n",
       "    }\n",
       "</style>\n",
       "<table border=\"1\" class=\"dataframe\">\n",
       "  <thead>\n",
       "    <tr style=\"text-align: right;\">\n",
       "      <th></th>\n",
       "      <th>car_name</th>\n",
       "      <th>car_price_in_rupees</th>\n",
       "      <th>kms_driven</th>\n",
       "      <th>fuel_type</th>\n",
       "      <th>city</th>\n",
       "      <th>year_of_manufacture</th>\n",
       "    </tr>\n",
       "  </thead>\n",
       "  <tbody>\n",
       "    <tr>\n",
       "      <th>0</th>\n",
       "      <td>Hyundai Grand i10 Magna 1.2 Kappa VTVT [2017-2...</td>\n",
       "      <td>₹ 4.45 Lakh</td>\n",
       "      <td>22,402 km</td>\n",
       "      <td>Petrol</td>\n",
       "      <td>Mumbai</td>\n",
       "      <td>2016</td>\n",
       "    </tr>\n",
       "    <tr>\n",
       "      <th>1</th>\n",
       "      <td>Maruti Suzuki Alto 800 Lxi</td>\n",
       "      <td>₹ 2.93 Lakh</td>\n",
       "      <td>10,344 km</td>\n",
       "      <td>Petrol</td>\n",
       "      <td>Kolkata</td>\n",
       "      <td>2019</td>\n",
       "    </tr>\n",
       "    <tr>\n",
       "      <th>2</th>\n",
       "      <td>Tata Safari XZ Plus New</td>\n",
       "      <td>₹ 22.49 Lakh</td>\n",
       "      <td>12,999 km</td>\n",
       "      <td>Diesel</td>\n",
       "      <td>Bangalore</td>\n",
       "      <td>2021</td>\n",
       "    </tr>\n",
       "    <tr>\n",
       "      <th>3</th>\n",
       "      <td>Maruti Suzuki Ciaz ZXI+</td>\n",
       "      <td>₹ 6.95 Lakh</td>\n",
       "      <td>45,000 km</td>\n",
       "      <td>Petrol</td>\n",
       "      <td>Thane</td>\n",
       "      <td>2016</td>\n",
       "    </tr>\n",
       "    <tr>\n",
       "      <th>4</th>\n",
       "      <td>Jeep Compass Sport Plus 1.4 Petrol [2019-2020]</td>\n",
       "      <td>₹ 12 Lakh</td>\n",
       "      <td>11,193 km</td>\n",
       "      <td>Petrol</td>\n",
       "      <td>Kolkata</td>\n",
       "      <td>2019</td>\n",
       "    </tr>\n",
       "  </tbody>\n",
       "</table>\n",
       "</div>"
      ],
      "text/plain": [
       "                                            car_name car_price_in_rupees  \\\n",
       "0  Hyundai Grand i10 Magna 1.2 Kappa VTVT [2017-2...         ₹ 4.45 Lakh   \n",
       "1                         Maruti Suzuki Alto 800 Lxi         ₹ 2.93 Lakh   \n",
       "2                            Tata Safari XZ Plus New        ₹ 22.49 Lakh   \n",
       "3                            Maruti Suzuki Ciaz ZXI+         ₹ 6.95 Lakh   \n",
       "4     Jeep Compass Sport Plus 1.4 Petrol [2019-2020]           ₹ 12 Lakh   \n",
       "\n",
       "  kms_driven fuel_type       city  year_of_manufacture  \n",
       "0  22,402 km    Petrol     Mumbai                 2016  \n",
       "1  10,344 km    Petrol    Kolkata                 2019  \n",
       "2  12,999 km    Diesel  Bangalore                 2021  \n",
       "3  45,000 km    Petrol      Thane                 2016  \n",
       "4  11,193 km    Petrol    Kolkata                 2019  "
      ]
     },
     "execution_count": 3,
     "metadata": {},
     "output_type": "execute_result"
    }
   ],
   "source": [
    "df.head()"
   ]
  },
  {
   "cell_type": "code",
   "execution_count": 4,
   "id": "0bcba8ad",
   "metadata": {
    "papermill": {
     "duration": 0.07535,
     "end_time": "2024-01-16T16:45:23.603793",
     "exception": false,
     "start_time": "2024-01-16T16:45:23.528443",
     "status": "completed"
    },
    "tags": []
   },
   "outputs": [
    {
     "name": "stdout",
     "output_type": "stream",
     "text": [
      "<class 'pandas.core.frame.DataFrame'>\n",
      "RangeIndex: 2105 entries, 0 to 2104\n",
      "Data columns (total 6 columns):\n",
      " #   Column               Non-Null Count  Dtype \n",
      "---  ------               --------------  ----- \n",
      " 0   car_name             2105 non-null   object\n",
      " 1   car_price_in_rupees  2105 non-null   object\n",
      " 2   kms_driven           2105 non-null   object\n",
      " 3   fuel_type            2105 non-null   object\n",
      " 4   city                 2105 non-null   object\n",
      " 5   year_of_manufacture  2105 non-null   int64 \n",
      "dtypes: int64(1), object(5)\n",
      "memory usage: 98.8+ KB\n"
     ]
    }
   ],
   "source": [
    "df.info()"
   ]
  },
  {
   "cell_type": "code",
   "execution_count": 5,
   "id": "fa0d1fa1",
   "metadata": {
    "papermill": {
     "duration": 0.046846,
     "end_time": "2024-01-16T16:45:23.685731",
     "exception": false,
     "start_time": "2024-01-16T16:45:23.638885",
     "status": "completed"
    },
    "tags": []
   },
   "outputs": [
    {
     "name": "stdout",
     "output_type": "stream",
     "text": [
      "Number of rows :  2105\n",
      "Number of columns :  6\n"
     ]
    }
   ],
   "source": [
    "# Counting, number of rows and columns\n",
    "print(\"Number of rows : \",df.shape[0])\n",
    "print(\"Number of columns : \",df.shape[1])"
   ]
  },
  {
   "cell_type": "markdown",
   "id": "1563a912",
   "metadata": {
    "papermill": {
     "duration": 0.034681,
     "end_time": "2024-01-16T16:45:23.755543",
     "exception": false,
     "start_time": "2024-01-16T16:45:23.720862",
     "status": "completed"
    },
    "tags": []
   },
   "source": [
    "###"
   ]
  },
  {
   "cell_type": "markdown",
   "id": "384f86d6",
   "metadata": {
    "papermill": {
     "duration": 0.034698,
     "end_time": "2024-01-16T16:45:23.824971",
     "exception": false,
     "start_time": "2024-01-16T16:45:23.790273",
     "status": "completed"
    },
    "tags": []
   },
   "source": [
    "### Handling Missing Values"
   ]
  },
  {
   "cell_type": "code",
   "execution_count": 6,
   "id": "655ddf55",
   "metadata": {
    "papermill": {
     "duration": 0.050282,
     "end_time": "2024-01-16T16:45:23.910250",
     "exception": false,
     "start_time": "2024-01-16T16:45:23.859968",
     "status": "completed"
    },
    "tags": []
   },
   "outputs": [
    {
     "name": "stdout",
     "output_type": "stream",
     "text": [
      "car_name               0\n",
      "car_price_in_rupees    0\n",
      "kms_driven             0\n",
      "fuel_type              0\n",
      "city                   0\n",
      "year_of_manufacture    0\n",
      "dtype: int64\n"
     ]
    }
   ],
   "source": [
    "# Counting Missing/Null Values \n",
    "Missing_Value = df.isnull().sum()\n",
    "print(Missing_Value)"
   ]
  },
  {
   "cell_type": "code",
   "execution_count": 7,
   "id": "2bac2262",
   "metadata": {
    "papermill": {
     "duration": 0.052174,
     "end_time": "2024-01-16T16:45:23.999464",
     "exception": false,
     "start_time": "2024-01-16T16:45:23.947290",
     "status": "completed"
    },
    "tags": []
   },
   "outputs": [
    {
     "name": "stdout",
     "output_type": "stream",
     "text": [
      "Number of duplicated rows are = 92\n"
     ]
    }
   ],
   "source": [
    "# Counting Duplicate Values\n",
    "Duplicate_Value = df.duplicated().sum()\n",
    "print(f'Number of duplicated rows are = {Duplicate_Value}')"
   ]
  },
  {
   "cell_type": "code",
   "execution_count": 8,
   "id": "16a9655c",
   "metadata": {
    "papermill": {
     "duration": 0.144654,
     "end_time": "2024-01-16T16:45:24.181455",
     "exception": false,
     "start_time": "2024-01-16T16:45:24.036801",
     "status": "completed"
    },
    "tags": []
   },
   "outputs": [
    {
     "name": "stdout",
     "output_type": "stream",
     "text": [
      "Number of rows :  2013\n",
      "Number of columns :  6\n",
      "Number of Duplicate values are = 0\n"
     ]
    }
   ],
   "source": [
    "df = df.drop_duplicates()\n",
    "\n",
    "# Checking Again\n",
    "print(\"Number of rows : \",df.shape[0])\n",
    "print(\"Number of columns : \",df.shape[1])\n",
    "print(\"Number of Duplicate values are =\" ,df.duplicated().sum())"
   ]
  },
  {
   "cell_type": "markdown",
   "id": "73080225",
   "metadata": {
    "papermill": {
     "duration": 0.035187,
     "end_time": "2024-01-16T16:45:24.253050",
     "exception": false,
     "start_time": "2024-01-16T16:45:24.217863",
     "status": "completed"
    },
    "tags": []
   },
   "source": [
    "###"
   ]
  },
  {
   "cell_type": "markdown",
   "id": "f736aacd",
   "metadata": {
    "papermill": {
     "duration": 0.034989,
     "end_time": "2024-01-16T16:45:24.323624",
     "exception": false,
     "start_time": "2024-01-16T16:45:24.288635",
     "status": "completed"
    },
    "tags": []
   },
   "source": [
    "### Data Cleaning for kms_driven"
   ]
  },
  {
   "cell_type": "code",
   "execution_count": 9,
   "id": "776d412e",
   "metadata": {
    "papermill": {
     "duration": 0.055086,
     "end_time": "2024-01-16T16:45:24.413899",
     "exception": false,
     "start_time": "2024-01-16T16:45:24.358813",
     "status": "completed"
    },
    "tags": []
   },
   "outputs": [
    {
     "name": "stdout",
     "output_type": "stream",
     "text": [
      "<class 'pandas.core.frame.DataFrame'>\n",
      "Index: 2013 entries, 0 to 2104\n",
      "Data columns (total 6 columns):\n",
      " #   Column               Non-Null Count  Dtype \n",
      "---  ------               --------------  ----- \n",
      " 0   car_name             2013 non-null   object\n",
      " 1   car_price_in_rupees  2013 non-null   object\n",
      " 2   kms_driven           2013 non-null   object\n",
      " 3   fuel_type            2013 non-null   object\n",
      " 4   city                 2013 non-null   object\n",
      " 5   year_of_manufacture  2013 non-null   int64 \n",
      "dtypes: int64(1), object(5)\n",
      "memory usage: 110.1+ KB\n"
     ]
    }
   ],
   "source": [
    "df.info()"
   ]
  },
  {
   "cell_type": "code",
   "execution_count": 10,
   "id": "24554caa",
   "metadata": {
    "papermill": {
     "duration": 0.046129,
     "end_time": "2024-01-16T16:45:24.496064",
     "exception": false,
     "start_time": "2024-01-16T16:45:24.449935",
     "status": "completed"
    },
    "tags": []
   },
   "outputs": [],
   "source": [
    "import re # It Provides support for working with regular expressions\n",
    "\n",
    "# Function to convert strings to integers\n",
    "def preprocess_string(s):\n",
    "    s = re.sub(r'[^\\d.]', '',s)\n",
    "    \n",
    "    return float(s)\n",
    "               "
   ]
  },
  {
   "cell_type": "code",
   "execution_count": 11,
   "id": "5ef5ac14",
   "metadata": {
    "papermill": {
     "duration": 0.068027,
     "end_time": "2024-01-16T16:45:24.599737",
     "exception": false,
     "start_time": "2024-01-16T16:45:24.531710",
     "status": "completed"
    },
    "tags": []
   },
   "outputs": [],
   "source": [
    "# Now preprocess \"car_price_in_rupees\" column\n",
    "\n",
    "df['car_price_in_rupees'] = df['car_price_in_rupees'].apply(preprocess_string)\n",
    "\n",
    "# Now preprocess \"car_price_in_rupees\" column\n",
    "\n",
    "df['kms_driven'] = df['kms_driven'].apply(preprocess_string).astype(int)"
   ]
  },
  {
   "cell_type": "code",
   "execution_count": 12,
   "id": "9109d5fb",
   "metadata": {
    "papermill": {
     "duration": 0.055667,
     "end_time": "2024-01-16T16:45:24.690563",
     "exception": false,
     "start_time": "2024-01-16T16:45:24.634896",
     "status": "completed"
    },
    "tags": []
   },
   "outputs": [
    {
     "name": "stdout",
     "output_type": "stream",
     "text": [
      "<class 'pandas.core.frame.DataFrame'>\n",
      "Index: 2013 entries, 0 to 2104\n",
      "Data columns (total 6 columns):\n",
      " #   Column               Non-Null Count  Dtype  \n",
      "---  ------               --------------  -----  \n",
      " 0   car_name             2013 non-null   object \n",
      " 1   car_price_in_rupees  2013 non-null   float64\n",
      " 2   kms_driven           2013 non-null   int64  \n",
      " 3   fuel_type            2013 non-null   object \n",
      " 4   city                 2013 non-null   object \n",
      " 5   year_of_manufacture  2013 non-null   int64  \n",
      "dtypes: float64(1), int64(2), object(3)\n",
      "memory usage: 110.1+ KB\n"
     ]
    }
   ],
   "source": [
    "df.info()"
   ]
  },
  {
   "cell_type": "markdown",
   "id": "cd6f4b94",
   "metadata": {
    "papermill": {
     "duration": 0.036427,
     "end_time": "2024-01-16T16:45:24.762874",
     "exception": false,
     "start_time": "2024-01-16T16:45:24.726447",
     "status": "completed"
    },
    "tags": []
   },
   "source": [
    "- #### Handling Outliers"
   ]
  },
  {
   "cell_type": "code",
   "execution_count": 13,
   "id": "26648008",
   "metadata": {
    "papermill": {
     "duration": 0.333718,
     "end_time": "2024-01-16T16:45:25.131526",
     "exception": false,
     "start_time": "2024-01-16T16:45:24.797808",
     "status": "completed"
    },
    "tags": []
   },
   "outputs": [
    {
     "data": {
      "image/png": "[encoded data removed]",
      "text/plain": [
       "<Figure size 640x480 with 1 Axes>"
      ]
     },
     "metadata": {},
     "output_type": "display_data"
    }
   ],
   "source": [
    "# Visualizing Data\n",
    "plt.boxplot(df['kms_driven'])\n",
    "plt.title('Box Plot of kms_driven')\n",
    "plt.show()"
   ]
  },
  {
   "cell_type": "code",
   "execution_count": 14,
   "id": "c286fb03",
   "metadata": {
    "papermill": {
     "duration": 0.051346,
     "end_time": "2024-01-16T16:45:25.218183",
     "exception": false,
     "start_time": "2024-01-16T16:45:25.166837",
     "status": "completed"
    },
    "tags": []
   },
   "outputs": [],
   "source": [
    "# Identifing Outliers using IQR\n",
    "Q1 = df['kms_driven'].quantile(0.25)\n",
    "Q3 = df['kms_driven'].quantile(0.75)\n",
    "IQR = Q3 - Q1\n",
    "\n",
    "# Using IQR to Filter Outliers\n",
    "df_filtered = df[(df['kms_driven'] >= Q1 - 1.5 * IQR) & (df['kms_driven'] <= Q3 + 1.5 * IQR)]\n",
    "\n",
    "df = df_filtered\n",
    "\n"
   ]
  },
  {
   "cell_type": "code",
   "execution_count": 15,
   "id": "45d7317f",
   "metadata": {
    "papermill": {
     "duration": 0.28171,
     "end_time": "2024-01-16T16:45:25.534525",
     "exception": false,
     "start_time": "2024-01-16T16:45:25.252815",
     "status": "completed"
    },
    "tags": []
   },
   "outputs": [
    {
     "data": {
      "image/png": "[encoded data removed]",
      "text/plain": [
       "<Figure size 640x480 with 1 Axes>"
      ]
     },
     "metadata": {},
     "output_type": "display_data"
    }
   ],
   "source": [
    "# Visualizing Data After Removing Outliers\n",
    "plt.boxplot(df['kms_driven'])\n",
    "plt.title('Box Plot of kms_driven (After Removing Outliers)')\n",
    "plt.show()"
   ]
  },
  {
   "cell_type": "code",
   "execution_count": 16,
   "id": "44c09426",
   "metadata": {
    "papermill": {
     "duration": 0.048611,
     "end_time": "2024-01-16T16:45:25.619765",
     "exception": false,
     "start_time": "2024-01-16T16:45:25.571154",
     "status": "completed"
    },
    "tags": []
   },
   "outputs": [
    {
     "data": {
      "text/plain": [
       "(1975, 6)"
      ]
     },
     "execution_count": 16,
     "metadata": {},
     "output_type": "execute_result"
    }
   ],
   "source": [
    "df.shape"
   ]
  },
  {
   "cell_type": "code",
   "execution_count": 17,
   "id": "bd180bec",
   "metadata": {
    "papermill": {
     "duration": 0.05358,
     "end_time": "2024-01-16T16:45:25.709672",
     "exception": false,
     "start_time": "2024-01-16T16:45:25.656092",
     "status": "completed"
    },
    "scrolled": true,
    "tags": []
   },
   "outputs": [
    {
     "data": {
      "text/html": [
       "<div>\n",
       "<style scoped>\n",
       "    .dataframe tbody tr th:only-of-type {\n",
       "        vertical-align: middle;\n",
       "    }\n",
       "\n",
       "    .dataframe tbody tr th {\n",
       "        vertical-align: top;\n",
       "    }\n",
       "\n",
       "    .dataframe thead th {\n",
       "        text-align: right;\n",
       "    }\n",
       "</style>\n",
       "<table border=\"1\" class=\"dataframe\">\n",
       "  <thead>\n",
       "    <tr style=\"text-align: right;\">\n",
       "      <th></th>\n",
       "      <th>car_name</th>\n",
       "      <th>car_price_in_rupees</th>\n",
       "      <th>kms_driven</th>\n",
       "      <th>fuel_type</th>\n",
       "      <th>city</th>\n",
       "      <th>year_of_manufacture</th>\n",
       "    </tr>\n",
       "  </thead>\n",
       "  <tbody>\n",
       "    <tr>\n",
       "      <th>0</th>\n",
       "      <td>Hyundai Grand i10 Magna 1.2 Kappa VTVT [2017-2...</td>\n",
       "      <td>4.45</td>\n",
       "      <td>22402</td>\n",
       "      <td>Petrol</td>\n",
       "      <td>Mumbai</td>\n",
       "      <td>2016</td>\n",
       "    </tr>\n",
       "    <tr>\n",
       "      <th>1</th>\n",
       "      <td>Maruti Suzuki Alto 800 Lxi</td>\n",
       "      <td>2.93</td>\n",
       "      <td>10344</td>\n",
       "      <td>Petrol</td>\n",
       "      <td>Kolkata</td>\n",
       "      <td>2019</td>\n",
       "    </tr>\n",
       "    <tr>\n",
       "      <th>2</th>\n",
       "      <td>Tata Safari XZ Plus New</td>\n",
       "      <td>22.49</td>\n",
       "      <td>12999</td>\n",
       "      <td>Diesel</td>\n",
       "      <td>Bangalore</td>\n",
       "      <td>2021</td>\n",
       "    </tr>\n",
       "    <tr>\n",
       "      <th>3</th>\n",
       "      <td>Maruti Suzuki Ciaz ZXI+</td>\n",
       "      <td>6.95</td>\n",
       "      <td>45000</td>\n",
       "      <td>Petrol</td>\n",
       "      <td>Thane</td>\n",
       "      <td>2016</td>\n",
       "    </tr>\n",
       "    <tr>\n",
       "      <th>4</th>\n",
       "      <td>Jeep Compass Sport Plus 1.4 Petrol [2019-2020]</td>\n",
       "      <td>12.00</td>\n",
       "      <td>11193</td>\n",
       "      <td>Petrol</td>\n",
       "      <td>Kolkata</td>\n",
       "      <td>2019</td>\n",
       "    </tr>\n",
       "  </tbody>\n",
       "</table>\n",
       "</div>"
      ],
      "text/plain": [
       "                                            car_name  car_price_in_rupees  \\\n",
       "0  Hyundai Grand i10 Magna 1.2 Kappa VTVT [2017-2...                 4.45   \n",
       "1                         Maruti Suzuki Alto 800 Lxi                 2.93   \n",
       "2                            Tata Safari XZ Plus New                22.49   \n",
       "3                            Maruti Suzuki Ciaz ZXI+                 6.95   \n",
       "4     Jeep Compass Sport Plus 1.4 Petrol [2019-2020]                12.00   \n",
       "\n",
       "   kms_driven fuel_type       city  year_of_manufacture  \n",
       "0       22402    Petrol     Mumbai                 2016  \n",
       "1       10344    Petrol    Kolkata                 2019  \n",
       "2       12999    Diesel  Bangalore                 2021  \n",
       "3       45000    Petrol      Thane                 2016  \n",
       "4       11193    Petrol    Kolkata                 2019  "
      ]
     },
     "execution_count": 17,
     "metadata": {},
     "output_type": "execute_result"
    }
   ],
   "source": [
    "df.head()"
   ]
  },
  {
   "cell_type": "markdown",
   "id": "38f1fd75",
   "metadata": {
    "papermill": {
     "duration": 0.03652,
     "end_time": "2024-01-16T16:45:25.782349",
     "exception": false,
     "start_time": "2024-01-16T16:45:25.745829",
     "status": "completed"
    },
    "tags": []
   },
   "source": [
    "###"
   ]
  },
  {
   "cell_type": "markdown",
   "id": "8d12bc23",
   "metadata": {
    "papermill": {
     "duration": 0.037274,
     "end_time": "2024-01-16T16:45:25.856782",
     "exception": false,
     "start_time": "2024-01-16T16:45:25.819508",
     "status": "completed"
    },
    "tags": []
   },
   "source": [
    "### Data Cleaning for fuel_type"
   ]
  },
  {
   "cell_type": "code",
   "execution_count": 18,
   "id": "4c8f33cc",
   "metadata": {
    "papermill": {
     "duration": 0.050188,
     "end_time": "2024-01-16T16:45:25.944789",
     "exception": false,
     "start_time": "2024-01-16T16:45:25.894601",
     "status": "completed"
    },
    "tags": []
   },
   "outputs": [
    {
     "data": {
      "text/plain": [
       "array(['Petrol', 'Diesel', 'Electric', 'CNG', 'Petrol + 1', 'Diesel + 1',\n",
       "       'Hybrid', 'LPG'], dtype=object)"
      ]
     },
     "execution_count": 18,
     "metadata": {},
     "output_type": "execute_result"
    }
   ],
   "source": [
    "df.fuel_type.unique()"
   ]
  },
  {
   "cell_type": "code",
   "execution_count": 19,
   "id": "086de8d6",
   "metadata": {
    "papermill": {
     "duration": 0.057881,
     "end_time": "2024-01-16T16:45:26.040416",
     "exception": false,
     "start_time": "2024-01-16T16:45:25.982535",
     "status": "completed"
    },
    "tags": []
   },
   "outputs": [
    {
     "data": {
      "text/plain": [
       "count       1975\n",
       "unique         8\n",
       "top       Petrol\n",
       "freq        1276\n",
       "Name: fuel_type, dtype: object"
      ]
     },
     "execution_count": 19,
     "metadata": {},
     "output_type": "execute_result"
    }
   ],
   "source": [
    "df['fuel_type'].describe()"
   ]
  },
  {
   "cell_type": "code",
   "execution_count": 20,
   "id": "6f68b49e",
   "metadata": {
    "papermill": {
     "duration": 0.355594,
     "end_time": "2024-01-16T16:45:26.433614",
     "exception": false,
     "start_time": "2024-01-16T16:45:26.078020",
     "status": "completed"
    },
    "tags": []
   },
   "outputs": [
    {
     "data": {
      "text/plain": [
       "<Axes: xlabel='fuel_type', ylabel='Count'>"
      ]
     },
     "execution_count": 20,
     "metadata": {},
     "output_type": "execute_result"
    },
    {
     "data": {
      "image/png": "[encoded data removed]",
      "text/plain": [
       "<Figure size 640x480 with 1 Axes>"
      ]
     },
     "metadata": {},
     "output_type": "display_data"
    }
   ],
   "source": [
    "sns.histplot(df['fuel_type'])"
   ]
  },
  {
   "cell_type": "code",
   "execution_count": 21,
   "id": "0709a8fc",
   "metadata": {
    "papermill": {
     "duration": 0.050831,
     "end_time": "2024-01-16T16:45:26.522046",
     "exception": false,
     "start_time": "2024-01-16T16:45:26.471215",
     "status": "completed"
    },
    "tags": []
   },
   "outputs": [],
   "source": [
    "df.loc[df[\"fuel_type\"] == \"Diesel + 1\", \"fuel_type\"] = \"Diesel\""
   ]
  },
  {
   "cell_type": "code",
   "execution_count": 22,
   "id": "3975fac5",
   "metadata": {
    "papermill": {
     "duration": 0.050563,
     "end_time": "2024-01-16T16:45:26.611548",
     "exception": false,
     "start_time": "2024-01-16T16:45:26.560985",
     "status": "completed"
    },
    "tags": []
   },
   "outputs": [
    {
     "data": {
      "text/plain": [
       "array(['Petrol', 'Diesel', 'Electric', 'CNG', 'Petrol + 1', 'Hybrid',\n",
       "       'LPG'], dtype=object)"
      ]
     },
     "execution_count": 22,
     "metadata": {},
     "output_type": "execute_result"
    }
   ],
   "source": [
    "df.fuel_type.unique()"
   ]
  },
  {
   "cell_type": "code",
   "execution_count": 23,
   "id": "8856e297",
   "metadata": {
    "papermill": {
     "duration": 0.048088,
     "end_time": "2024-01-16T16:45:26.697975",
     "exception": false,
     "start_time": "2024-01-16T16:45:26.649887",
     "status": "completed"
    },
    "tags": []
   },
   "outputs": [],
   "source": [
    "df.loc[df[\"fuel_type\"] == \"Petrol + 1\", \"fuel_type\"] = \"Petrol\""
   ]
  },
  {
   "cell_type": "code",
   "execution_count": 24,
   "id": "a2890901",
   "metadata": {
    "papermill": {
     "duration": 0.050993,
     "end_time": "2024-01-16T16:45:26.788621",
     "exception": false,
     "start_time": "2024-01-16T16:45:26.737628",
     "status": "completed"
    },
    "tags": []
   },
   "outputs": [
    {
     "data": {
      "text/plain": [
       "array(['Petrol', 'Diesel', 'Electric', 'CNG', 'Hybrid', 'LPG'],\n",
       "      dtype=object)"
      ]
     },
     "execution_count": 24,
     "metadata": {},
     "output_type": "execute_result"
    }
   ],
   "source": [
    "df.fuel_type.unique()"
   ]
  },
  {
   "cell_type": "code",
   "execution_count": 25,
   "id": "489e1e94-9d92-4e77-8f97-56d6d202bcb5",
   "metadata": {},
   "outputs": [
    {
     "data": {
      "text/plain": [
       "'or you can use below function\\ndf[\"fuel_type\"]=df[\"fuel_type\"].replace(\\'Petrol + 1\\',\"Petrol\")\\ndf[\"fuel_type\"]=df[\"fuel_type\"].replace(\\'Diesel + 1\\',\"Diesel\")\\n'"
      ]
     },
     "execution_count": 25,
     "metadata": {},
     "output_type": "execute_result"
    }
   ],
   "source": [
    "'''or you can use below function\n",
    "df[\"fuel_type\"]=df[\"fuel_type\"].replace('Petrol + 1',\"Petrol\")\n",
    "df[\"fuel_type\"]=df[\"fuel_type\"].replace('Diesel + 1',\"Diesel\")\n",
    "'''"
   ]
  },
  {
   "cell_type": "code",
   "execution_count": 26,
   "id": "ff4d122d",
   "metadata": {
    "papermill": {
     "duration": 0.350355,
     "end_time": "2024-01-16T16:45:27.177945",
     "exception": false,
     "start_time": "2024-01-16T16:45:26.827590",
     "status": "completed"
    },
    "tags": []
   },
   "outputs": [
    {
     "data": {
      "text/plain": [
       "<Axes: xlabel='fuel_type', ylabel='Count'>"
      ]
     },
     "execution_count": 26,
     "metadata": {},
     "output_type": "execute_result"
    },
    {
     "data": {
      "image/png": "[encoded data removed]",
      "text/plain": [
       "<Figure size 640x480 with 1 Axes>"
      ]
     },
     "metadata": {},
     "output_type": "display_data"
    }
   ],
   "source": [
    "sns.histplot(df['fuel_type'])"
   ]
  },
  {
   "cell_type": "markdown",
   "id": "79025600",
   "metadata": {
    "papermill": {
     "duration": 0.039875,
     "end_time": "2024-01-16T16:45:27.257972",
     "exception": false,
     "start_time": "2024-01-16T16:45:27.218097",
     "status": "completed"
    },
    "tags": []
   },
   "source": [
    "#### Removing Hybrid, LPG from fuel_type, viz. these are very less in number, and less common in market"
   ]
  },
  {
   "cell_type": "code",
   "execution_count": 27,
   "id": "3f0e14ce",
   "metadata": {
    "papermill": {
     "duration": 0.055366,
     "end_time": "2024-01-16T16:45:27.356570",
     "exception": false,
     "start_time": "2024-01-16T16:45:27.301204",
     "status": "completed"
    },
    "tags": []
   },
   "outputs": [
    {
     "data": {
      "text/plain": [
       "(1975, 6)"
      ]
     },
     "execution_count": 27,
     "metadata": {},
     "output_type": "execute_result"
    }
   ],
   "source": [
    "df.shape"
   ]
  },
  {
   "cell_type": "code",
   "execution_count": 28,
   "id": "7c45d71a-a281-4d45-81df-4f7028cb77cb",
   "metadata": {},
   "outputs": [],
   "source": [
    "df = df[~df[\"fuel_type\"].isin([\"Hybrid\", \"LPG\", \"Electric\"])]"
   ]
  },
  {
   "cell_type": "code",
   "execution_count": 29,
   "id": "7c1da11f",
   "metadata": {
    "papermill": {
     "duration": 0.051088,
     "end_time": "2024-01-16T16:45:27.450426",
     "exception": false,
     "start_time": "2024-01-16T16:45:27.399338",
     "status": "completed"
    },
    "tags": []
   },
   "outputs": [],
   "source": [
    "# or you can do below\n",
    "# df = df.drop(df[(df.fuel_type == \"Hybrid\")].index)\n",
    "# df = df.drop(df[(df.fuel_type == \"LPG\")].index)"
   ]
  },
  {
   "cell_type": "code",
   "execution_count": 30,
   "id": "d5e6b38a",
   "metadata": {
    "papermill": {
     "duration": 0.050862,
     "end_time": "2024-01-16T16:45:27.539643",
     "exception": false,
     "start_time": "2024-01-16T16:45:27.488781",
     "status": "completed"
    },
    "tags": []
   },
   "outputs": [
    {
     "data": {
      "text/plain": [
       "array(['Petrol', 'Diesel', 'CNG'], dtype=object)"
      ]
     },
     "execution_count": 30,
     "metadata": {},
     "output_type": "execute_result"
    }
   ],
   "source": [
    "df.fuel_type.unique()"
   ]
  },
  {
   "cell_type": "code",
   "execution_count": 31,
   "id": "52fd89db",
   "metadata": {
    "papermill": {
     "duration": 0.302405,
     "end_time": "2024-01-16T16:45:27.880962",
     "exception": false,
     "start_time": "2024-01-16T16:45:27.578557",
     "status": "completed"
    },
    "tags": []
   },
   "outputs": [
    {
     "data": {
      "text/plain": [
       "<Axes: xlabel='fuel_type', ylabel='Count'>"
      ]
     },
     "execution_count": 31,
     "metadata": {},
     "output_type": "execute_result"
    },
    {
     "data": {
      "image/png": "[encoded data removed]",
      "text/plain": [
       "<Figure size 640x480 with 1 Axes>"
      ]
     },
     "metadata": {},
     "output_type": "display_data"
    }
   ],
   "source": [
    "sns.histplot(df['fuel_type'])"
   ]
  },
  {
   "cell_type": "code",
   "execution_count": 32,
   "id": "9fd2f938",
   "metadata": {
    "papermill": {
     "duration": 0.052446,
     "end_time": "2024-01-16T16:45:27.975312",
     "exception": false,
     "start_time": "2024-01-16T16:45:27.922866",
     "status": "completed"
    },
    "tags": []
   },
   "outputs": [
    {
     "data": {
      "text/plain": [
       "(1962, 6)"
      ]
     },
     "execution_count": 32,
     "metadata": {},
     "output_type": "execute_result"
    }
   ],
   "source": [
    "df.shape"
   ]
  },
  {
   "cell_type": "code",
   "execution_count": 33,
   "id": "73194773",
   "metadata": {
    "papermill": {
     "duration": 0.051374,
     "end_time": "2024-01-16T16:45:28.066737",
     "exception": false,
     "start_time": "2024-01-16T16:45:28.015363",
     "status": "completed"
    },
    "tags": []
   },
   "outputs": [],
   "source": [
    "df = df.drop(df[(df.fuel_type == \"LPG\")].index)"
   ]
  },
  {
   "cell_type": "code",
   "execution_count": 34,
   "id": "032f01fa",
   "metadata": {
    "papermill": {
     "duration": 0.054553,
     "end_time": "2024-01-16T16:45:28.163390",
     "exception": false,
     "start_time": "2024-01-16T16:45:28.108837",
     "status": "completed"
    },
    "tags": []
   },
   "outputs": [
    {
     "data": {
      "text/plain": [
       "array(['Petrol', 'Diesel', 'CNG'], dtype=object)"
      ]
     },
     "execution_count": 34,
     "metadata": {},
     "output_type": "execute_result"
    }
   ],
   "source": [
    "df.fuel_type.unique()"
   ]
  },
  {
   "cell_type": "markdown",
   "id": "5b50e33e",
   "metadata": {
    "papermill": {
     "duration": 0.040075,
     "end_time": "2024-01-16T16:45:28.707105",
     "exception": false,
     "start_time": "2024-01-16T16:45:28.667030",
     "status": "completed"
    },
    "tags": []
   },
   "source": [
    "#### Combining both electric and CNG in to alternative_eco_fuel"
   ]
  },
  {
   "cell_type": "code",
   "execution_count": 36,
   "id": "fcfef1b4",
   "metadata": {
    "execution": {
     "iopub.execute_input": "2024-01-16T16:45:28.789722Z",
     "iopub.status.busy": "2024-01-16T16:45:28.788890Z",
     "iopub.status.idle": "2024-01-16T16:45:28.795605Z",
     "shell.execute_reply": "2024-01-16T16:45:28.794728Z"
    },
    "papermill": {
     "duration": 0.051054,
     "end_time": "2024-01-16T16:45:28.798056",
     "exception": false,
     "start_time": "2024-01-16T16:45:28.747002",
     "status": "completed"
    },
    "tags": []
   },
   "outputs": [],
   "source": [
    "# df['fuel_type'] = df['fuel_type'].replace(['Electric', 'CNG'], 'alternative_eco_fuel')"
   ]
  },
  {
   "cell_type": "code",
   "execution_count": 37,
   "id": "b27b43e5",
   "metadata": {
    "execution": {
     "iopub.execute_input": "2024-01-16T16:45:28.882768Z",
     "iopub.status.busy": "2024-01-16T16:45:28.882034Z",
     "iopub.status.idle": "2024-01-16T16:45:28.889179Z",
     "shell.execute_reply": "2024-01-16T16:45:28.888142Z"
    },
    "papermill": {
     "duration": 0.053161,
     "end_time": "2024-01-16T16:45:28.891420",
     "exception": false,
     "start_time": "2024-01-16T16:45:28.838259",
     "status": "completed"
    },
    "tags": []
   },
   "outputs": [
    {
     "data": {
      "text/plain": [
       "array(['Petrol', 'Diesel', 'alternative_eco_fuel'], dtype=object)"
      ]
     },
     "execution_count": 37,
     "metadata": {},
     "output_type": "execute_result"
    }
   ],
   "source": [
    "# df['fuel_type'].unique()"
   ]
  },
  {
   "cell_type": "code",
   "execution_count": 38,
   "id": "57931b2f",
   "metadata": {
    "execution": {
     "iopub.execute_input": "2024-01-16T16:45:28.978585Z",
     "iopub.status.busy": "2024-01-16T16:45:28.978162Z",
     "iopub.status.idle": "2024-01-16T16:45:29.265932Z",
     "shell.execute_reply": "2024-01-16T16:45:29.264820Z"
    },
    "papermill": {
     "duration": 0.333934,
     "end_time": "2024-01-16T16:45:29.269654",
     "exception": false,
     "start_time": "2024-01-16T16:45:28.935720",
     "status": "completed"
    },
    "tags": []
   },
   "outputs": [
    {
     "data": {
      "text/plain": [
       "<Axes: xlabel='fuel_type', ylabel='Count'>"
      ]
     },
     "execution_count": 38,
     "metadata": {},
     "output_type": "execute_result"
    },
    {
     "data": {
      "image/png": "[encoded data removed]",
      "text/plain": [
       "<Figure size 640x480 with 1 Axes>"
      ]
     },
     "metadata": {},
     "output_type": "display_data"
    }
   ],
   "source": [
    "# sns.histplot(df['fuel_type'])"
   ]
  },
  {
   "cell_type": "markdown",
   "id": "dbf97ee3",
   "metadata": {
    "papermill": {
     "duration": 0.041709,
     "end_time": "2024-01-16T16:45:29.357918",
     "exception": false,
     "start_time": "2024-01-16T16:45:29.316209",
     "status": "completed"
    },
    "tags": []
   },
   "source": [
    "- #### Doing One Hot Encoding (manually using pandas and lambda function). We can also use One Hot Encording from sklearn.preprocessing"
   ]
  },
  {
   "cell_type": "code",
   "execution_count": 35,
   "id": "b03e6ecb",
   "metadata": {
    "papermill": {
     "duration": 0.081334,
     "end_time": "2024-01-16T16:45:29.484761",
     "exception": false,
     "start_time": "2024-01-16T16:45:29.403427",
     "status": "completed"
    },
    "tags": []
   },
   "outputs": [],
   "source": [
    "df['fuel_Petrol'] = df.apply(lambda row: 1 if (row[\"fuel_type\"] == \"Petrol\") else 0, axis=1)"
   ]
  },
  {
   "cell_type": "code",
   "execution_count": 36,
   "id": "e789fdbc",
   "metadata": {
    "papermill": {
     "duration": 0.09264,
     "end_time": "2024-01-16T16:45:29.624507",
     "exception": false,
     "start_time": "2024-01-16T16:45:29.531867",
     "status": "completed"
    },
    "tags": []
   },
   "outputs": [],
   "source": [
    "df['fuel_Diesel'] = df.apply(lambda row: 1 if (row[\"fuel_type\"] == \"Diesel\") else 0, axis=1)"
   ]
  },
  {
   "cell_type": "code",
   "execution_count": 37,
   "id": "2b2f4a0f",
   "metadata": {
    "papermill": {
     "duration": 0.078783,
     "end_time": "2024-01-16T16:45:29.751336",
     "exception": false,
     "start_time": "2024-01-16T16:45:29.672553",
     "status": "completed"
    },
    "tags": []
   },
   "outputs": [],
   "source": [
    "df['fuel_CNG'] = df.apply(lambda row: 1 if (row[\"fuel_type\"] == \"CNG\") else 0, axis=1)"
   ]
  },
  {
   "cell_type": "code",
   "execution_count": 48,
   "id": "48d7d6aa-a649-47fe-9ff0-4d326ad4b857",
   "metadata": {},
   "outputs": [
    {
     "data": {
      "text/html": [
       "<div>\n",
       "<style scoped>\n",
       "    .dataframe tbody tr th:only-of-type {\n",
       "        vertical-align: middle;\n",
       "    }\n",
       "\n",
       "    .dataframe tbody tr th {\n",
       "        vertical-align: top;\n",
       "    }\n",
       "\n",
       "    .dataframe thead th {\n",
       "        text-align: right;\n",
       "    }\n",
       "</style>\n",
       "<table border=\"1\" class=\"dataframe\">\n",
       "  <thead>\n",
       "    <tr style=\"text-align: right;\">\n",
       "      <th></th>\n",
       "      <th>CNG</th>\n",
       "      <th>Diesel</th>\n",
       "      <th>Petrol</th>\n",
       "    </tr>\n",
       "  </thead>\n",
       "  <tbody>\n",
       "    <tr>\n",
       "      <th>0</th>\n",
       "      <td>0</td>\n",
       "      <td>0</td>\n",
       "      <td>1</td>\n",
       "    </tr>\n",
       "    <tr>\n",
       "      <th>1</th>\n",
       "      <td>0</td>\n",
       "      <td>0</td>\n",
       "      <td>1</td>\n",
       "    </tr>\n",
       "    <tr>\n",
       "      <th>2</th>\n",
       "      <td>0</td>\n",
       "      <td>1</td>\n",
       "      <td>0</td>\n",
       "    </tr>\n",
       "    <tr>\n",
       "      <th>3</th>\n",
       "      <td>0</td>\n",
       "      <td>0</td>\n",
       "      <td>1</td>\n",
       "    </tr>\n",
       "    <tr>\n",
       "      <th>4</th>\n",
       "      <td>0</td>\n",
       "      <td>0</td>\n",
       "      <td>1</td>\n",
       "    </tr>\n",
       "  </tbody>\n",
       "</table>\n",
       "</div>"
      ],
      "text/plain": [
       "   CNG  Diesel  Petrol\n",
       "0    0       0       1\n",
       "1    0       0       1\n",
       "2    0       1       0\n",
       "3    0       0       1\n",
       "4    0       0       1"
      ]
     },
     "execution_count": 48,
     "metadata": {},
     "output_type": "execute_result"
    }
   ],
   "source": [
    "# one_hot = pd.get_dummies(df[\"fuel_type\"])\n",
    "# one_hot= one_hot.astype(int)\n",
    "# # pd.concat([df, one_hot], axis=1)\n",
    "# # df = df.drop('B',axis = 1)\n",
    "# one_hot.head()"
   ]
  },
  {
   "cell_type": "code",
   "execution_count": 38,
   "id": "9f35467e",
   "metadata": {
    "papermill": {
     "duration": 0.054787,
     "end_time": "2024-01-16T16:45:29.848498",
     "exception": false,
     "start_time": "2024-01-16T16:45:29.793711",
     "status": "completed"
    },
    "tags": []
   },
   "outputs": [],
   "source": [
    "df.drop(columns=['fuel_type'], inplace=True)"
   ]
  },
  {
   "cell_type": "code",
   "execution_count": 39,
   "id": "536a0816",
   "metadata": {
    "papermill": {
     "duration": 0.065784,
     "end_time": "2024-01-16T16:45:29.956900",
     "exception": false,
     "start_time": "2024-01-16T16:45:29.891116",
     "status": "completed"
    },
    "tags": []
   },
   "outputs": [
    {
     "data": {
      "text/html": [
       "<div>\n",
       "<style scoped>\n",
       "    .dataframe tbody tr th:only-of-type {\n",
       "        vertical-align: middle;\n",
       "    }\n",
       "\n",
       "    .dataframe tbody tr th {\n",
       "        vertical-align: top;\n",
       "    }\n",
       "\n",
       "    .dataframe thead th {\n",
       "        text-align: right;\n",
       "    }\n",
       "</style>\n",
       "<table border=\"1\" class=\"dataframe\">\n",
       "  <thead>\n",
       "    <tr style=\"text-align: right;\">\n",
       "      <th></th>\n",
       "      <th>car_name</th>\n",
       "      <th>car_price_in_rupees</th>\n",
       "      <th>kms_driven</th>\n",
       "      <th>city</th>\n",
       "      <th>year_of_manufacture</th>\n",
       "      <th>fuel_Petrol</th>\n",
       "      <th>fuel_Diesel</th>\n",
       "      <th>fuel_CNG</th>\n",
       "    </tr>\n",
       "  </thead>\n",
       "  <tbody>\n",
       "    <tr>\n",
       "      <th>0</th>\n",
       "      <td>Hyundai Grand i10 Magna 1.2 Kappa VTVT [2017-2...</td>\n",
       "      <td>4.45</td>\n",
       "      <td>22402</td>\n",
       "      <td>Mumbai</td>\n",
       "      <td>2016</td>\n",
       "      <td>1</td>\n",
       "      <td>0</td>\n",
       "      <td>0</td>\n",
       "    </tr>\n",
       "    <tr>\n",
       "      <th>1</th>\n",
       "      <td>Maruti Suzuki Alto 800 Lxi</td>\n",
       "      <td>2.93</td>\n",
       "      <td>10344</td>\n",
       "      <td>Kolkata</td>\n",
       "      <td>2019</td>\n",
       "      <td>1</td>\n",
       "      <td>0</td>\n",
       "      <td>0</td>\n",
       "    </tr>\n",
       "    <tr>\n",
       "      <th>2</th>\n",
       "      <td>Tata Safari XZ Plus New</td>\n",
       "      <td>22.49</td>\n",
       "      <td>12999</td>\n",
       "      <td>Bangalore</td>\n",
       "      <td>2021</td>\n",
       "      <td>0</td>\n",
       "      <td>1</td>\n",
       "      <td>0</td>\n",
       "    </tr>\n",
       "    <tr>\n",
       "      <th>3</th>\n",
       "      <td>Maruti Suzuki Ciaz ZXI+</td>\n",
       "      <td>6.95</td>\n",
       "      <td>45000</td>\n",
       "      <td>Thane</td>\n",
       "      <td>2016</td>\n",
       "      <td>1</td>\n",
       "      <td>0</td>\n",
       "      <td>0</td>\n",
       "    </tr>\n",
       "    <tr>\n",
       "      <th>4</th>\n",
       "      <td>Jeep Compass Sport Plus 1.4 Petrol [2019-2020]</td>\n",
       "      <td>12.00</td>\n",
       "      <td>11193</td>\n",
       "      <td>Kolkata</td>\n",
       "      <td>2019</td>\n",
       "      <td>1</td>\n",
       "      <td>0</td>\n",
       "      <td>0</td>\n",
       "    </tr>\n",
       "  </tbody>\n",
       "</table>\n",
       "</div>"
      ],
      "text/plain": [
       "                                            car_name  car_price_in_rupees  \\\n",
       "0  Hyundai Grand i10 Magna 1.2 Kappa VTVT [2017-2...                 4.45   \n",
       "1                         Maruti Suzuki Alto 800 Lxi                 2.93   \n",
       "2                            Tata Safari XZ Plus New                22.49   \n",
       "3                            Maruti Suzuki Ciaz ZXI+                 6.95   \n",
       "4     Jeep Compass Sport Plus 1.4 Petrol [2019-2020]                12.00   \n",
       "\n",
       "   kms_driven       city  year_of_manufacture  fuel_Petrol  fuel_Diesel  \\\n",
       "0       22402     Mumbai                 2016            1            0   \n",
       "1       10344    Kolkata                 2019            1            0   \n",
       "2       12999  Bangalore                 2021            0            1   \n",
       "3       45000      Thane                 2016            1            0   \n",
       "4       11193    Kolkata                 2019            1            0   \n",
       "\n",
       "   fuel_CNG  \n",
       "0         0  \n",
       "1         0  \n",
       "2         0  \n",
       "3         0  \n",
       "4         0  "
      ]
     },
     "execution_count": 39,
     "metadata": {},
     "output_type": "execute_result"
    }
   ],
   "source": [
    "df.head()"
   ]
  },
  {
   "cell_type": "code",
   "execution_count": null,
   "id": "55921dfd",
   "metadata": {
    "papermill": {
     "duration": 0.041268,
     "end_time": "2024-01-16T16:45:30.039692",
     "exception": false,
     "start_time": "2024-01-16T16:45:29.998424",
     "status": "completed"
    },
    "tags": []
   },
   "outputs": [],
   "source": []
  },
  {
   "cell_type": "markdown",
   "id": "97129b63",
   "metadata": {
    "papermill": {
     "duration": 0.041166,
     "end_time": "2024-01-16T16:45:30.122407",
     "exception": false,
     "start_time": "2024-01-16T16:45:30.081241",
     "status": "completed"
    },
    "tags": []
   },
   "source": [
    "- #### Handling Outliers"
   ]
  },
  {
   "cell_type": "code",
   "execution_count": 40,
   "id": "9f7ae686",
   "metadata": {
    "papermill": {
     "duration": 0.57346,
     "end_time": "2024-01-16T16:45:30.739563",
     "exception": false,
     "start_time": "2024-01-16T16:45:30.166103",
     "status": "completed"
    },
    "tags": []
   },
   "outputs": [
    {
     "data": {
      "text/plain": [
       "<Axes: ylabel='fuel_CNG'>"
      ]
     },
     "execution_count": 40,
     "metadata": {},
     "output_type": "execute_result"
    },
    {
     "data": {
      "image/png": "[encoded data removed]",
      "text/plain": [
       "<Figure size 1200x400 with 4 Axes>"
      ]
     },
     "metadata": {},
     "output_type": "display_data"
    }
   ],
   "source": [
    "# Visualizing Data\n",
    "\n",
    "plt.subplots(figsize=(12, 4))\n",
    "plt.subplot(1, 3, 1)\n",
    "sns.boxplot(df['fuel_Petrol'])\n",
    "\n",
    "plt.subplot(1, 3, 2)\n",
    "sns.boxplot(df['fuel_Diesel'])\n",
    "\n",
    "plt.subplot(1, 3, 3)\n",
    "sns.boxplot(df['fuel_CNG'])\n"
   ]
  },
  {
   "cell_type": "code",
   "execution_count": 41,
   "id": "7656eb65",
   "metadata": {
    "papermill": {
     "duration": 0.058463,
     "end_time": "2024-01-16T16:45:30.842130",
     "exception": false,
     "start_time": "2024-01-16T16:45:30.783667",
     "status": "completed"
    },
    "tags": []
   },
   "outputs": [],
   "source": [
    "# Found Outlier in fuel_alternative_eco\n",
    "\n",
    "# Identifing Outliers using IQR\n",
    "Q1 = df['fuel_CNG'].quantile(0.25)\n",
    "Q3 = df['fuel_CNG'].quantile(0.75)\n",
    "IQR = Q3 - Q1\n",
    "\n",
    "# Using IQR to Filter Outliers\n",
    "df_filtered = df[(df['fuel_CNG'] >= Q1 - 1.5 * IQR) & (df['fuel_CNG'] <= Q3 + 1.5 * IQR)]\n",
    "\n",
    "df = df_filtered\n",
    "\n"
   ]
  },
  {
   "cell_type": "code",
   "execution_count": 42,
   "id": "4425ace8",
   "metadata": {
    "papermill": {
     "duration": 0.289236,
     "end_time": "2024-01-16T16:45:31.174004",
     "exception": false,
     "start_time": "2024-01-16T16:45:30.884768",
     "status": "completed"
    },
    "tags": []
   },
   "outputs": [
    {
     "data": {
      "image/png": "[encoded data removed]",
      "text/plain": [
       "<Figure size 640x480 with 1 Axes>"
      ]
     },
     "metadata": {},
     "output_type": "display_data"
    }
   ],
   "source": [
    "# Visualizing Data After Removing Outliers\n",
    "plt.boxplot(df['fuel_CNG'])\n",
    "plt.title('Box Plot of fuel_CNG (After Removing Outliers)')\n",
    "plt.show()"
   ]
  },
  {
   "cell_type": "code",
   "execution_count": 43,
   "id": "c733df38",
   "metadata": {
    "papermill": {
     "duration": 0.057793,
     "end_time": "2024-01-16T16:45:31.276018",
     "exception": false,
     "start_time": "2024-01-16T16:45:31.218225",
     "status": "completed"
    },
    "tags": []
   },
   "outputs": [
    {
     "data": {
      "text/plain": [
       "(1884, 8)"
      ]
     },
     "execution_count": 43,
     "metadata": {},
     "output_type": "execute_result"
    }
   ],
   "source": [
    "df.shape"
   ]
  },
  {
   "cell_type": "markdown",
   "id": "9d492d79",
   "metadata": {
    "papermill": {
     "duration": 0.04238,
     "end_time": "2024-01-16T16:45:31.362138",
     "exception": false,
     "start_time": "2024-01-16T16:45:31.319758",
     "status": "completed"
    },
    "tags": []
   },
   "source": [
    "###"
   ]
  },
  {
   "cell_type": "markdown",
   "id": "9372c0ee",
   "metadata": {
    "papermill": {
     "duration": 0.04251,
     "end_time": "2024-01-16T16:45:31.447634",
     "exception": false,
     "start_time": "2024-01-16T16:45:31.405124",
     "status": "completed"
    },
    "tags": []
   },
   "source": [
    "### Data Cleaning for year_of_manufacture"
   ]
  },
  {
   "cell_type": "code",
   "execution_count": 44,
   "id": "69d41773",
   "metadata": {
    "papermill": {
     "duration": 0.076702,
     "end_time": "2024-01-16T16:45:31.567128",
     "exception": false,
     "start_time": "2024-01-16T16:45:31.490426",
     "status": "completed"
    },
    "tags": []
   },
   "outputs": [],
   "source": [
    "df['age'] = df.apply(lambda row: 2024 - row[\"year_of_manufacture\"], axis=1)"
   ]
  },
  {
   "cell_type": "code",
   "execution_count": 45,
   "id": "1ef5838d",
   "metadata": {
    "papermill": {
     "duration": 0.054771,
     "end_time": "2024-01-16T16:45:31.666615",
     "exception": false,
     "start_time": "2024-01-16T16:45:31.611844",
     "status": "completed"
    },
    "tags": []
   },
   "outputs": [],
   "source": [
    "df.drop(columns=['year_of_manufacture'], inplace=True)"
   ]
  },
  {
   "cell_type": "code",
   "execution_count": 46,
   "id": "44a95ca0",
   "metadata": {
    "papermill": {
     "duration": 0.06039,
     "end_time": "2024-01-16T16:45:31.769340",
     "exception": false,
     "start_time": "2024-01-16T16:45:31.708950",
     "status": "completed"
    },
    "tags": []
   },
   "outputs": [
    {
     "data": {
      "text/html": [
       "<div>\n",
       "<style scoped>\n",
       "    .dataframe tbody tr th:only-of-type {\n",
       "        vertical-align: middle;\n",
       "    }\n",
       "\n",
       "    .dataframe tbody tr th {\n",
       "        vertical-align: top;\n",
       "    }\n",
       "\n",
       "    .dataframe thead th {\n",
       "        text-align: right;\n",
       "    }\n",
       "</style>\n",
       "<table border=\"1\" class=\"dataframe\">\n",
       "  <thead>\n",
       "    <tr style=\"text-align: right;\">\n",
       "      <th></th>\n",
       "      <th>car_name</th>\n",
       "      <th>car_price_in_rupees</th>\n",
       "      <th>kms_driven</th>\n",
       "      <th>city</th>\n",
       "      <th>fuel_Petrol</th>\n",
       "      <th>fuel_Diesel</th>\n",
       "      <th>fuel_CNG</th>\n",
       "      <th>age</th>\n",
       "    </tr>\n",
       "  </thead>\n",
       "  <tbody>\n",
       "    <tr>\n",
       "      <th>0</th>\n",
       "      <td>Hyundai Grand i10 Magna 1.2 Kappa VTVT [2017-2...</td>\n",
       "      <td>4.45</td>\n",
       "      <td>22402</td>\n",
       "      <td>Mumbai</td>\n",
       "      <td>1</td>\n",
       "      <td>0</td>\n",
       "      <td>0</td>\n",
       "      <td>8</td>\n",
       "    </tr>\n",
       "    <tr>\n",
       "      <th>1</th>\n",
       "      <td>Maruti Suzuki Alto 800 Lxi</td>\n",
       "      <td>2.93</td>\n",
       "      <td>10344</td>\n",
       "      <td>Kolkata</td>\n",
       "      <td>1</td>\n",
       "      <td>0</td>\n",
       "      <td>0</td>\n",
       "      <td>5</td>\n",
       "    </tr>\n",
       "    <tr>\n",
       "      <th>2</th>\n",
       "      <td>Tata Safari XZ Plus New</td>\n",
       "      <td>22.49</td>\n",
       "      <td>12999</td>\n",
       "      <td>Bangalore</td>\n",
       "      <td>0</td>\n",
       "      <td>1</td>\n",
       "      <td>0</td>\n",
       "      <td>3</td>\n",
       "    </tr>\n",
       "    <tr>\n",
       "      <th>3</th>\n",
       "      <td>Maruti Suzuki Ciaz ZXI+</td>\n",
       "      <td>6.95</td>\n",
       "      <td>45000</td>\n",
       "      <td>Thane</td>\n",
       "      <td>1</td>\n",
       "      <td>0</td>\n",
       "      <td>0</td>\n",
       "      <td>8</td>\n",
       "    </tr>\n",
       "    <tr>\n",
       "      <th>4</th>\n",
       "      <td>Jeep Compass Sport Plus 1.4 Petrol [2019-2020]</td>\n",
       "      <td>12.00</td>\n",
       "      <td>11193</td>\n",
       "      <td>Kolkata</td>\n",
       "      <td>1</td>\n",
       "      <td>0</td>\n",
       "      <td>0</td>\n",
       "      <td>5</td>\n",
       "    </tr>\n",
       "  </tbody>\n",
       "</table>\n",
       "</div>"
      ],
      "text/plain": [
       "                                            car_name  car_price_in_rupees  \\\n",
       "0  Hyundai Grand i10 Magna 1.2 Kappa VTVT [2017-2...                 4.45   \n",
       "1                         Maruti Suzuki Alto 800 Lxi                 2.93   \n",
       "2                            Tata Safari XZ Plus New                22.49   \n",
       "3                            Maruti Suzuki Ciaz ZXI+                 6.95   \n",
       "4     Jeep Compass Sport Plus 1.4 Petrol [2019-2020]                12.00   \n",
       "\n",
       "   kms_driven       city  fuel_Petrol  fuel_Diesel  fuel_CNG  age  \n",
       "0       22402     Mumbai            1            0         0    8  \n",
       "1       10344    Kolkata            1            0         0    5  \n",
       "2       12999  Bangalore            0            1         0    3  \n",
       "3       45000      Thane            1            0         0    8  \n",
       "4       11193    Kolkata            1            0         0    5  "
      ]
     },
     "execution_count": 46,
     "metadata": {},
     "output_type": "execute_result"
    }
   ],
   "source": [
    "df.head()"
   ]
  },
  {
   "cell_type": "code",
   "execution_count": null,
   "id": "ffc6c698",
   "metadata": {
    "papermill": {
     "duration": 0.042029,
     "end_time": "2024-01-16T16:45:31.853321",
     "exception": false,
     "start_time": "2024-01-16T16:45:31.811292",
     "status": "completed"
    },
    "tags": []
   },
   "outputs": [],
   "source": []
  },
  {
   "cell_type": "markdown",
   "id": "a773bdbb",
   "metadata": {
    "papermill": {
     "duration": 0.04638,
     "end_time": "2024-01-16T16:45:31.942814",
     "exception": false,
     "start_time": "2024-01-16T16:45:31.896434",
     "status": "completed"
    },
    "tags": []
   },
   "source": [
    "- #### Handling Outliers"
   ]
  },
  {
   "cell_type": "code",
   "execution_count": 47,
   "id": "9c82b031",
   "metadata": {
    "papermill": {
     "duration": 0.311767,
     "end_time": "2024-01-16T16:45:32.299803",
     "exception": false,
     "start_time": "2024-01-16T16:45:31.988036",
     "status": "completed"
    },
    "tags": []
   },
   "outputs": [
    {
     "data": {
      "image/png": "[encoded data removed]",
      "text/plain": [
       "<Figure size 640x480 with 1 Axes>"
      ]
     },
     "metadata": {},
     "output_type": "display_data"
    }
   ],
   "source": [
    "# Visualizing Data\n",
    "plt.boxplot(df['age'])\n",
    "plt.title('Box Plot of age')\n",
    "plt.show()"
   ]
  },
  {
   "cell_type": "code",
   "execution_count": 48,
   "id": "f021088c",
   "metadata": {
    "papermill": {
     "duration": 0.058668,
     "end_time": "2024-01-16T16:45:32.401797",
     "exception": false,
     "start_time": "2024-01-16T16:45:32.343129",
     "status": "completed"
    },
    "tags": []
   },
   "outputs": [],
   "source": [
    "# Identifing Outliers using IQR\n",
    "Q1 = df['age'].quantile(0.25)\n",
    "Q3 = df['age'].quantile(0.75)\n",
    "IQR = Q3 - Q1\n",
    "\n",
    "# Using IQR to Filter Outliers\n",
    "df_filtered = df[(df['age'] >= Q1 - 1.5 * IQR) & (df['age'] <= Q3 + 1.5 * IQR)]\n",
    "\n",
    "df = df_filtered\n",
    "\n"
   ]
  },
  {
   "cell_type": "code",
   "execution_count": 49,
   "id": "c1f46e61",
   "metadata": {
    "papermill": {
     "duration": 0.302346,
     "end_time": "2024-01-16T16:45:32.748814",
     "exception": false,
     "start_time": "2024-01-16T16:45:32.446468",
     "status": "completed"
    },
    "tags": []
   },
   "outputs": [
    {
     "data": {
      "image/png": "[encoded data removed]",
      "text/plain": [
       "<Figure size 640x480 with 1 Axes>"
      ]
     },
     "metadata": {},
     "output_type": "display_data"
    }
   ],
   "source": [
    "# Visualizing Data After Removing Outliers\n",
    "plt.boxplot(df['age'])\n",
    "plt.title('Box Plot of age (After Removing Outliers)')\n",
    "plt.show()"
   ]
  },
  {
   "cell_type": "code",
   "execution_count": 50,
   "id": "5c464470",
   "metadata": {
    "papermill": {
     "duration": 0.056336,
     "end_time": "2024-01-16T16:45:32.848835",
     "exception": false,
     "start_time": "2024-01-16T16:45:32.792499",
     "status": "completed"
    },
    "tags": []
   },
   "outputs": [
    {
     "data": {
      "text/plain": [
       "(1873, 8)"
      ]
     },
     "execution_count": 50,
     "metadata": {},
     "output_type": "execute_result"
    }
   ],
   "source": [
    "df.shape"
   ]
  },
  {
   "cell_type": "markdown",
   "id": "20baa0f0",
   "metadata": {
    "papermill": {
     "duration": 0.044188,
     "end_time": "2024-01-16T16:45:32.938862",
     "exception": false,
     "start_time": "2024-01-16T16:45:32.894674",
     "status": "completed"
    },
    "tags": []
   },
   "source": [
    "###"
   ]
  },
  {
   "cell_type": "markdown",
   "id": "19ff5171",
   "metadata": {
    "papermill": {
     "duration": 0.044272,
     "end_time": "2024-01-16T16:45:33.028353",
     "exception": false,
     "start_time": "2024-01-16T16:45:32.984081",
     "status": "completed"
    },
    "tags": []
   },
   "source": [
    "### Data Cleaning for car_name"
   ]
  },
  {
   "cell_type": "code",
   "execution_count": 53,
   "id": "db6e7fb5",
   "metadata": {
    "papermill": {
     "duration": 0.061153,
     "end_time": "2024-01-16T16:45:33.133419",
     "exception": false,
     "start_time": "2024-01-16T16:45:33.072266",
     "status": "completed"
    },
    "tags": []
   },
   "outputs": [
    {
     "ename": "ValueError",
     "evalue": "cannot insert car_brand, already exists",
     "output_type": "error",
     "traceback": [
      "\u001b[1;31m---------------------------------------------------------------------------\u001b[0m",
      "\u001b[1;31mValueError\u001b[0m                                Traceback (most recent call last)",
      "\u001b[1;32m~\\AppData\\Local\\Temp\\ipykernel_29676\\780336565.py\u001b[0m in \u001b[0;36m?\u001b[1;34m()\u001b[0m\n\u001b[1;32m----> 1\u001b[1;33m \u001b[0mdf\u001b[0m\u001b[1;33m.\u001b[0m\u001b[0minsert\u001b[0m\u001b[1;33m(\u001b[0m\u001b[1;36m1\u001b[0m\u001b[1;33m,\u001b[0m \u001b[1;34m\"car_brand\"\u001b[0m\u001b[1;33m,\u001b[0m \u001b[0mdf\u001b[0m\u001b[1;33m[\u001b[0m\u001b[1;34m\"car_name\"\u001b[0m\u001b[1;33m]\u001b[0m\u001b[1;33m.\u001b[0m\u001b[0mstr\u001b[0m\u001b[1;33m.\u001b[0m\u001b[0msplit\u001b[0m\u001b[1;33m(\u001b[0m\u001b[1;34m\" \"\u001b[0m\u001b[1;33m)\u001b[0m\u001b[1;33m.\u001b[0m\u001b[0mstr\u001b[0m\u001b[1;33m[\u001b[0m\u001b[1;36m0\u001b[0m\u001b[1;33m]\u001b[0m\u001b[1;33m)\u001b[0m\u001b[1;33m\u001b[0m\u001b[1;33m\u001b[0m\u001b[0m\n\u001b[0m",
      "\u001b[1;32m~\\AppData\\Local\\Programs\\Python\\Python312\\Lib\\site-packages\\pandas\\core\\frame.py\u001b[0m in \u001b[0;36m?\u001b[1;34m(self, loc, column, value, allow_duplicates)\u001b[0m\n\u001b[0;32m   5154\u001b[0m                 \u001b[1;34m\"'self.flags.allows_duplicate_labels' is False.\"\u001b[0m\u001b[1;33m\u001b[0m\u001b[1;33m\u001b[0m\u001b[0m\n\u001b[0;32m   5155\u001b[0m             \u001b[1;33m)\u001b[0m\u001b[1;33m\u001b[0m\u001b[1;33m\u001b[0m\u001b[0m\n\u001b[0;32m   5156\u001b[0m         \u001b[1;32mif\u001b[0m \u001b[1;32mnot\u001b[0m \u001b[0mallow_duplicates\u001b[0m \u001b[1;32mand\u001b[0m \u001b[0mcolumn\u001b[0m \u001b[1;32min\u001b[0m \u001b[0mself\u001b[0m\u001b[1;33m.\u001b[0m\u001b[0mcolumns\u001b[0m\u001b[1;33m:\u001b[0m\u001b[1;33m\u001b[0m\u001b[1;33m\u001b[0m\u001b[0m\n\u001b[0;32m   5157\u001b[0m             \u001b[1;31m# Should this be a different kind of error??\u001b[0m\u001b[1;33m\u001b[0m\u001b[1;33m\u001b[0m\u001b[0m\n\u001b[1;32m-> 5158\u001b[1;33m             \u001b[1;32mraise\u001b[0m \u001b[0mValueError\u001b[0m\u001b[1;33m(\u001b[0m\u001b[1;33mf\"\u001b[0m\u001b[1;33mcannot insert \u001b[0m\u001b[1;33m{\u001b[0m\u001b[0mcolumn\u001b[0m\u001b[1;33m}\u001b[0m\u001b[1;33m, already exists\u001b[0m\u001b[1;33m\"\u001b[0m\u001b[1;33m)\u001b[0m\u001b[1;33m\u001b[0m\u001b[1;33m\u001b[0m\u001b[0m\n\u001b[0m\u001b[0;32m   5159\u001b[0m         \u001b[1;32mif\u001b[0m \u001b[1;32mnot\u001b[0m \u001b[0mis_integer\u001b[0m\u001b[1;33m(\u001b[0m\u001b[0mloc\u001b[0m\u001b[1;33m)\u001b[0m\u001b[1;33m:\u001b[0m\u001b[1;33m\u001b[0m\u001b[1;33m\u001b[0m\u001b[0m\n\u001b[0;32m   5160\u001b[0m             \u001b[1;32mraise\u001b[0m \u001b[0mTypeError\u001b[0m\u001b[1;33m(\u001b[0m\u001b[1;34m\"loc must be int\"\u001b[0m\u001b[1;33m)\u001b[0m\u001b[1;33m\u001b[0m\u001b[1;33m\u001b[0m\u001b[0m\n\u001b[0;32m   5161\u001b[0m         \u001b[1;31m# convert non stdlib ints to satisfy typing checks\u001b[0m\u001b[1;33m\u001b[0m\u001b[1;33m\u001b[0m\u001b[0m\n",
      "\u001b[1;31mValueError\u001b[0m: cannot insert car_brand, already exists"
     ]
    }
   ],
   "source": [
    "df.insert(1, \"car_brand\", df[\"car_name\"].str.split(\" \").str[0])"
   ]
  },
  {
   "cell_type": "code",
   "execution_count": 54,
   "id": "eb08464b",
   "metadata": {
    "papermill": {
     "duration": 0.056255,
     "end_time": "2024-01-16T16:45:33.233815",
     "exception": false,
     "start_time": "2024-01-16T16:45:33.177560",
     "status": "completed"
    },
    "tags": []
   },
   "outputs": [
    {
     "data": {
      "text/plain": [
       "array(['Hyundai', 'Maruti', 'Tata', 'Jeep', 'Toyota', 'Renault', 'Ford',\n",
       "       'Porsche', 'Kia', 'BMW', 'Honda', 'Audi', 'MG', 'Skoda',\n",
       "       'Mercedes-Benz', 'Chevrolet', 'Volkswagen', 'Volvo', 'Mahindra',\n",
       "       'Nissan', 'Land', 'Isuzu', 'Jaguar', 'MINI', 'Datsun', 'Fiat',\n",
       "       'Citroen'], dtype=object)"
      ]
     },
     "execution_count": 54,
     "metadata": {},
     "output_type": "execute_result"
    }
   ],
   "source": [
    "df.car_brand.unique()"
   ]
  },
  {
   "cell_type": "code",
   "execution_count": 55,
   "id": "36662170",
   "metadata": {
    "papermill": {
     "duration": 0.054134,
     "end_time": "2024-01-16T16:45:33.332016",
     "exception": false,
     "start_time": "2024-01-16T16:45:33.277882",
     "status": "completed"
    },
    "tags": []
   },
   "outputs": [],
   "source": [
    "# List of car brands based on subjective ranking\n",
    "car_brands = ['Mercedes-Benz', 'BMW', 'Audi', 'Toyota', 'Volkswagen', 'Porsche', 'Volvo', 'Jaguar', 'Land', \n",
    "              'Ford', 'Honda', 'Chevrolet', 'Hyundai', 'Kia', 'Nissan', 'Renault', 'Skoda', 'MINI', 'MG', 'Mahindra',\n",
    "              'Tata', 'Isuzu', 'Jeep', 'Datsun', 'Fiat', 'Citroen', 'Bentley','Maruti']\n",
    "\n"
   ]
  },
  {
   "cell_type": "code",
   "execution_count": 56,
   "id": "e3a69111",
   "metadata": {
    "papermill": {
     "duration": 0.054446,
     "end_time": "2024-01-16T16:45:33.431077",
     "exception": false,
     "start_time": "2024-01-16T16:45:33.376631",
     "status": "completed"
    },
    "tags": []
   },
   "outputs": [
    {
     "data": {
      "text/plain": [
       "1873"
      ]
     },
     "execution_count": 56,
     "metadata": {},
     "output_type": "execute_result"
    }
   ],
   "source": [
    "len(df)"
   ]
  },
  {
   "cell_type": "code",
   "execution_count": 57,
   "id": "f970d785",
   "metadata": {
    "papermill": {
     "duration": 0.076486,
     "end_time": "2024-01-16T16:45:33.554042",
     "exception": false,
     "start_time": "2024-01-16T16:45:33.477556",
     "status": "completed"
    },
    "tags": []
   },
   "outputs": [],
   "source": [
    "# Loop through the mapping and perform replacements\n",
    "for brand_name in car_brands:\n",
    "    df.loc[df[\"car_brand\"] == brand_name, \"car_brand\"] = ((car_brands.index(brand_name) + 1) / len(df)) * 100"
   ]
  },
  {
   "cell_type": "code",
   "execution_count": 58,
   "id": "b4087e5f",
   "metadata": {
    "papermill": {
     "duration": 0.056881,
     "end_time": "2024-01-16T16:45:33.656562",
     "exception": false,
     "start_time": "2024-01-16T16:45:33.599681",
     "status": "completed"
    },
    "tags": []
   },
   "outputs": [
    {
     "data": {
      "text/plain": [
       "array([0.6940736785904965, 1.4949279231179926, 1.1211959423384943,\n",
       "       1.2279765082754939, 0.21356113187399892, 0.8542445274959957,\n",
       "       0.5339028296849974, 0.32034169781099836, 0.7474639615589963,\n",
       "       0.10678056593699946, 0.587293112653497, 0.16017084890549918,\n",
       "       1.014415376401495, 0.9076348104644953, 0.05339028296849973,\n",
       "       0.6406833956219967, 0.2669514148424987, 0.37373198077949815,\n",
       "       1.0678056593699947, 0.800854244527496, 0.4805125467164976,\n",
       "       1.174586225306994, 0.42712226374799783, 0.9610250934329952,\n",
       "       1.2813667912439934, 1.3347570742124935, 1.388147357180993],\n",
       "      dtype=object)"
      ]
     },
     "execution_count": 58,
     "metadata": {},
     "output_type": "execute_result"
    }
   ],
   "source": [
    "df.car_brand.unique()"
   ]
  },
  {
   "cell_type": "code",
   "execution_count": 59,
   "id": "62188639",
   "metadata": {
    "papermill": {
     "duration": 0.05717,
     "end_time": "2024-01-16T16:45:33.757925",
     "exception": false,
     "start_time": "2024-01-16T16:45:33.700755",
     "status": "completed"
    },
    "tags": []
   },
   "outputs": [],
   "source": [
    "df.rename(columns={'car_brand': 'car_brand_score'}, inplace=True)"
   ]
  },
  {
   "cell_type": "code",
   "execution_count": 60,
   "id": "7d5589fc",
   "metadata": {
    "papermill": {
     "duration": 0.055423,
     "end_time": "2024-01-16T16:45:33.857342",
     "exception": false,
     "start_time": "2024-01-16T16:45:33.801919",
     "status": "completed"
    },
    "tags": []
   },
   "outputs": [],
   "source": [
    "df.drop(columns=['car_name'], inplace=True)"
   ]
  },
  {
   "cell_type": "code",
   "execution_count": 61,
   "id": "e347dc38",
   "metadata": {
    "papermill": {
     "duration": 0.063759,
     "end_time": "2024-01-16T16:45:33.964909",
     "exception": false,
     "start_time": "2024-01-16T16:45:33.901150",
     "status": "completed"
    },
    "scrolled": true,
    "tags": []
   },
   "outputs": [
    {
     "data": {
      "text/html": [
       "<div>\n",
       "<style scoped>\n",
       "    .dataframe tbody tr th:only-of-type {\n",
       "        vertical-align: middle;\n",
       "    }\n",
       "\n",
       "    .dataframe tbody tr th {\n",
       "        vertical-align: top;\n",
       "    }\n",
       "\n",
       "    .dataframe thead th {\n",
       "        text-align: right;\n",
       "    }\n",
       "</style>\n",
       "<table border=\"1\" class=\"dataframe\">\n",
       "  <thead>\n",
       "    <tr style=\"text-align: right;\">\n",
       "      <th></th>\n",
       "      <th>car_brand_score</th>\n",
       "      <th>car_price_in_rupees</th>\n",
       "      <th>kms_driven</th>\n",
       "      <th>city</th>\n",
       "      <th>fuel_Petrol</th>\n",
       "      <th>fuel_Diesel</th>\n",
       "      <th>fuel_CNG</th>\n",
       "      <th>age</th>\n",
       "    </tr>\n",
       "  </thead>\n",
       "  <tbody>\n",
       "    <tr>\n",
       "      <th>0</th>\n",
       "      <td>0.694074</td>\n",
       "      <td>4.45</td>\n",
       "      <td>22402</td>\n",
       "      <td>Mumbai</td>\n",
       "      <td>1</td>\n",
       "      <td>0</td>\n",
       "      <td>0</td>\n",
       "      <td>8</td>\n",
       "    </tr>\n",
       "    <tr>\n",
       "      <th>1</th>\n",
       "      <td>1.494928</td>\n",
       "      <td>2.93</td>\n",
       "      <td>10344</td>\n",
       "      <td>Kolkata</td>\n",
       "      <td>1</td>\n",
       "      <td>0</td>\n",
       "      <td>0</td>\n",
       "      <td>5</td>\n",
       "    </tr>\n",
       "    <tr>\n",
       "      <th>2</th>\n",
       "      <td>1.121196</td>\n",
       "      <td>22.49</td>\n",
       "      <td>12999</td>\n",
       "      <td>Bangalore</td>\n",
       "      <td>0</td>\n",
       "      <td>1</td>\n",
       "      <td>0</td>\n",
       "      <td>3</td>\n",
       "    </tr>\n",
       "    <tr>\n",
       "      <th>3</th>\n",
       "      <td>1.494928</td>\n",
       "      <td>6.95</td>\n",
       "      <td>45000</td>\n",
       "      <td>Thane</td>\n",
       "      <td>1</td>\n",
       "      <td>0</td>\n",
       "      <td>0</td>\n",
       "      <td>8</td>\n",
       "    </tr>\n",
       "    <tr>\n",
       "      <th>4</th>\n",
       "      <td>1.227977</td>\n",
       "      <td>12.00</td>\n",
       "      <td>11193</td>\n",
       "      <td>Kolkata</td>\n",
       "      <td>1</td>\n",
       "      <td>0</td>\n",
       "      <td>0</td>\n",
       "      <td>5</td>\n",
       "    </tr>\n",
       "  </tbody>\n",
       "</table>\n",
       "</div>"
      ],
      "text/plain": [
       "  car_brand_score  car_price_in_rupees  kms_driven       city  fuel_Petrol  \\\n",
       "0        0.694074                 4.45       22402     Mumbai            1   \n",
       "1        1.494928                 2.93       10344    Kolkata            1   \n",
       "2        1.121196                22.49       12999  Bangalore            0   \n",
       "3        1.494928                 6.95       45000      Thane            1   \n",
       "4        1.227977                12.00       11193    Kolkata            1   \n",
       "\n",
       "   fuel_Diesel  fuel_CNG  age  \n",
       "0            0         0    8  \n",
       "1            0         0    5  \n",
       "2            1         0    3  \n",
       "3            0         0    8  \n",
       "4            0         0    5  "
      ]
     },
     "execution_count": 61,
     "metadata": {},
     "output_type": "execute_result"
    }
   ],
   "source": [
    "df.head()"
   ]
  },
  {
   "cell_type": "markdown",
   "id": "6b90518e",
   "metadata": {
    "papermill": {
     "duration": 0.045091,
     "end_time": "2024-01-16T16:45:34.055543",
     "exception": false,
     "start_time": "2024-01-16T16:45:34.010452",
     "status": "completed"
    },
    "tags": []
   },
   "source": [
    "###"
   ]
  },
  {
   "cell_type": "markdown",
   "id": "00a76d2a",
   "metadata": {
    "papermill": {
     "duration": 0.044705,
     "end_time": "2024-01-16T16:45:34.145821",
     "exception": false,
     "start_time": "2024-01-16T16:45:34.101116",
     "status": "completed"
    },
    "tags": []
   },
   "source": [
    "### Data Cleaning for city"
   ]
  },
  {
   "cell_type": "markdown",
   "id": "b948a9bf",
   "metadata": {
    "papermill": {
     "duration": 0.045912,
     "end_time": "2024-01-16T16:45:34.237735",
     "exception": false,
     "start_time": "2024-01-16T16:45:34.191823",
     "status": "completed"
    },
    "tags": []
   },
   "source": [
    "- ##### For now droping city column"
   ]
  },
  {
   "cell_type": "code",
   "execution_count": 62,
   "id": "eef06975",
   "metadata": {
    "papermill": {
     "duration": 0.055953,
     "end_time": "2024-01-16T16:45:34.340481",
     "exception": false,
     "start_time": "2024-01-16T16:45:34.284528",
     "status": "completed"
    },
    "tags": []
   },
   "outputs": [],
   "source": [
    "df.drop(columns=['city'], inplace=True)"
   ]
  },
  {
   "cell_type": "code",
   "execution_count": 63,
   "id": "e24f3a7c",
   "metadata": {
    "papermill": {
     "duration": 0.062161,
     "end_time": "2024-01-16T16:45:34.447492",
     "exception": false,
     "start_time": "2024-01-16T16:45:34.385331",
     "status": "completed"
    },
    "scrolled": true,
    "tags": []
   },
   "outputs": [
    {
     "data": {
      "text/html": [
       "<div>\n",
       "<style scoped>\n",
       "    .dataframe tbody tr th:only-of-type {\n",
       "        vertical-align: middle;\n",
       "    }\n",
       "\n",
       "    .dataframe tbody tr th {\n",
       "        vertical-align: top;\n",
       "    }\n",
       "\n",
       "    .dataframe thead th {\n",
       "        text-align: right;\n",
       "    }\n",
       "</style>\n",
       "<table border=\"1\" class=\"dataframe\">\n",
       "  <thead>\n",
       "    <tr style=\"text-align: right;\">\n",
       "      <th></th>\n",
       "      <th>car_brand_score</th>\n",
       "      <th>car_price_in_rupees</th>\n",
       "      <th>kms_driven</th>\n",
       "      <th>fuel_Petrol</th>\n",
       "      <th>fuel_Diesel</th>\n",
       "      <th>fuel_CNG</th>\n",
       "      <th>age</th>\n",
       "    </tr>\n",
       "  </thead>\n",
       "  <tbody>\n",
       "    <tr>\n",
       "      <th>0</th>\n",
       "      <td>0.694074</td>\n",
       "      <td>4.45</td>\n",
       "      <td>22402</td>\n",
       "      <td>1</td>\n",
       "      <td>0</td>\n",
       "      <td>0</td>\n",
       "      <td>8</td>\n",
       "    </tr>\n",
       "    <tr>\n",
       "      <th>1</th>\n",
       "      <td>1.494928</td>\n",
       "      <td>2.93</td>\n",
       "      <td>10344</td>\n",
       "      <td>1</td>\n",
       "      <td>0</td>\n",
       "      <td>0</td>\n",
       "      <td>5</td>\n",
       "    </tr>\n",
       "    <tr>\n",
       "      <th>2</th>\n",
       "      <td>1.121196</td>\n",
       "      <td>22.49</td>\n",
       "      <td>12999</td>\n",
       "      <td>0</td>\n",
       "      <td>1</td>\n",
       "      <td>0</td>\n",
       "      <td>3</td>\n",
       "    </tr>\n",
       "    <tr>\n",
       "      <th>3</th>\n",
       "      <td>1.494928</td>\n",
       "      <td>6.95</td>\n",
       "      <td>45000</td>\n",
       "      <td>1</td>\n",
       "      <td>0</td>\n",
       "      <td>0</td>\n",
       "      <td>8</td>\n",
       "    </tr>\n",
       "    <tr>\n",
       "      <th>4</th>\n",
       "      <td>1.227977</td>\n",
       "      <td>12.00</td>\n",
       "      <td>11193</td>\n",
       "      <td>1</td>\n",
       "      <td>0</td>\n",
       "      <td>0</td>\n",
       "      <td>5</td>\n",
       "    </tr>\n",
       "  </tbody>\n",
       "</table>\n",
       "</div>"
      ],
      "text/plain": [
       "  car_brand_score  car_price_in_rupees  kms_driven  fuel_Petrol  fuel_Diesel  \\\n",
       "0        0.694074                 4.45       22402            1            0   \n",
       "1        1.494928                 2.93       10344            1            0   \n",
       "2        1.121196                22.49       12999            0            1   \n",
       "3        1.494928                 6.95       45000            1            0   \n",
       "4        1.227977                12.00       11193            1            0   \n",
       "\n",
       "   fuel_CNG  age  \n",
       "0         0    8  \n",
       "1         0    5  \n",
       "2         0    3  \n",
       "3         0    8  \n",
       "4         0    5  "
      ]
     },
     "execution_count": 63,
     "metadata": {},
     "output_type": "execute_result"
    }
   ],
   "source": [
    "df.head()"
   ]
  },
  {
   "cell_type": "markdown",
   "id": "aeb5e94a",
   "metadata": {
    "papermill": {
     "duration": 0.043425,
     "end_time": "2024-01-16T16:45:34.535172",
     "exception": false,
     "start_time": "2024-01-16T16:45:34.491747",
     "status": "completed"
    },
    "tags": []
   },
   "source": [
    "###"
   ]
  },
  {
   "cell_type": "markdown",
   "id": "a5837620",
   "metadata": {
    "papermill": {
     "duration": 0.045587,
     "end_time": "2024-01-16T16:45:34.624658",
     "exception": false,
     "start_time": "2024-01-16T16:45:34.579071",
     "status": "completed"
    },
    "tags": []
   },
   "source": [
    "## Independent And dependent features"
   ]
  },
  {
   "cell_type": "code",
   "execution_count": 64,
   "id": "fdabef43",
   "metadata": {
    "papermill": {
     "duration": 0.05564,
     "end_time": "2024-01-16T16:45:34.724973",
     "exception": false,
     "start_time": "2024-01-16T16:45:34.669333",
     "status": "completed"
    },
    "tags": []
   },
   "outputs": [],
   "source": [
    "X=df.drop('car_price_in_rupees',axis=1)\n",
    "y=df['car_price_in_rupees']"
   ]
  },
  {
   "cell_type": "code",
   "execution_count": 65,
   "id": "da9847b2",
   "metadata": {
    "papermill": {
     "duration": 0.060812,
     "end_time": "2024-01-16T16:45:34.830126",
     "exception": false,
     "start_time": "2024-01-16T16:45:34.769314",
     "status": "completed"
    },
    "tags": []
   },
   "outputs": [
    {
     "data": {
      "text/html": [
       "<div>\n",
       "<style scoped>\n",
       "    .dataframe tbody tr th:only-of-type {\n",
       "        vertical-align: middle;\n",
       "    }\n",
       "\n",
       "    .dataframe tbody tr th {\n",
       "        vertical-align: top;\n",
       "    }\n",
       "\n",
       "    .dataframe thead th {\n",
       "        text-align: right;\n",
       "    }\n",
       "</style>\n",
       "<table border=\"1\" class=\"dataframe\">\n",
       "  <thead>\n",
       "    <tr style=\"text-align: right;\">\n",
       "      <th></th>\n",
       "      <th>car_brand_score</th>\n",
       "      <th>kms_driven</th>\n",
       "      <th>fuel_Petrol</th>\n",
       "      <th>fuel_Diesel</th>\n",
       "      <th>fuel_CNG</th>\n",
       "      <th>age</th>\n",
       "    </tr>\n",
       "  </thead>\n",
       "  <tbody>\n",
       "    <tr>\n",
       "      <th>0</th>\n",
       "      <td>0.694074</td>\n",
       "      <td>22402</td>\n",
       "      <td>1</td>\n",
       "      <td>0</td>\n",
       "      <td>0</td>\n",
       "      <td>8</td>\n",
       "    </tr>\n",
       "    <tr>\n",
       "      <th>1</th>\n",
       "      <td>1.494928</td>\n",
       "      <td>10344</td>\n",
       "      <td>1</td>\n",
       "      <td>0</td>\n",
       "      <td>0</td>\n",
       "      <td>5</td>\n",
       "    </tr>\n",
       "    <tr>\n",
       "      <th>2</th>\n",
       "      <td>1.121196</td>\n",
       "      <td>12999</td>\n",
       "      <td>0</td>\n",
       "      <td>1</td>\n",
       "      <td>0</td>\n",
       "      <td>3</td>\n",
       "    </tr>\n",
       "    <tr>\n",
       "      <th>3</th>\n",
       "      <td>1.494928</td>\n",
       "      <td>45000</td>\n",
       "      <td>1</td>\n",
       "      <td>0</td>\n",
       "      <td>0</td>\n",
       "      <td>8</td>\n",
       "    </tr>\n",
       "    <tr>\n",
       "      <th>4</th>\n",
       "      <td>1.227977</td>\n",
       "      <td>11193</td>\n",
       "      <td>1</td>\n",
       "      <td>0</td>\n",
       "      <td>0</td>\n",
       "      <td>5</td>\n",
       "    </tr>\n",
       "  </tbody>\n",
       "</table>\n",
       "</div>"
      ],
      "text/plain": [
       "  car_brand_score  kms_driven  fuel_Petrol  fuel_Diesel  fuel_CNG  age\n",
       "0        0.694074       22402            1            0         0    8\n",
       "1        1.494928       10344            1            0         0    5\n",
       "2        1.121196       12999            0            1         0    3\n",
       "3        1.494928       45000            1            0         0    8\n",
       "4        1.227977       11193            1            0         0    5"
      ]
     },
     "execution_count": 65,
     "metadata": {},
     "output_type": "execute_result"
    }
   ],
   "source": [
    "X.head()"
   ]
  },
  {
   "cell_type": "code",
   "execution_count": 66,
   "id": "6eb98dd1",
   "metadata": {
    "papermill": {
     "duration": 0.056479,
     "end_time": "2024-01-16T16:45:34.931266",
     "exception": false,
     "start_time": "2024-01-16T16:45:34.874787",
     "status": "completed"
    },
    "scrolled": true,
    "tags": []
   },
   "outputs": [
    {
     "data": {
      "text/plain": [
       "0     4.45\n",
       "1     2.93\n",
       "2    22.49\n",
       "3     6.95\n",
       "4    12.00\n",
       "Name: car_price_in_rupees, dtype: float64"
      ]
     },
     "execution_count": 66,
     "metadata": {},
     "output_type": "execute_result"
    }
   ],
   "source": [
    "y.head()"
   ]
  },
  {
   "cell_type": "markdown",
   "id": "a4a7bd5b",
   "metadata": {
    "papermill": {
     "duration": 0.046059,
     "end_time": "2024-01-16T16:45:35.024760",
     "exception": false,
     "start_time": "2024-01-16T16:45:34.978701",
     "status": "completed"
    },
    "tags": []
   },
   "source": [
    "###"
   ]
  },
  {
   "cell_type": "markdown",
   "id": "2544ff60",
   "metadata": {
    "papermill": {
     "duration": 0.04531,
     "end_time": "2024-01-16T16:45:35.115531",
     "exception": false,
     "start_time": "2024-01-16T16:45:35.070221",
     "status": "completed"
    },
    "tags": []
   },
   "source": [
    "## Train Test Split"
   ]
  },
  {
   "cell_type": "code",
   "execution_count": 67,
   "id": "e5efd289",
   "metadata": {
    "papermill": {
     "duration": 0.317163,
     "end_time": "2024-01-16T16:45:35.479176",
     "exception": false,
     "start_time": "2024-01-16T16:45:35.162013",
     "status": "completed"
    },
    "tags": []
   },
   "outputs": [],
   "source": [
    "from sklearn.model_selection import train_test_split\n",
    "X_train,X_test,y_train,y_test=train_test_split(X,y,test_size=0.3,random_state=42)"
   ]
  },
  {
   "cell_type": "code",
   "execution_count": 68,
   "id": "f2a6c352",
   "metadata": {
    "papermill": {
     "duration": 0.056834,
     "end_time": "2024-01-16T16:45:35.581072",
     "exception": false,
     "start_time": "2024-01-16T16:45:35.524238",
     "status": "completed"
    },
    "tags": []
   },
   "outputs": [
    {
     "data": {
      "text/plain": [
       "((1311, 6), (562, 6))"
      ]
     },
     "execution_count": 68,
     "metadata": {},
     "output_type": "execute_result"
    }
   ],
   "source": [
    "X_train.shape,X_test.shape"
   ]
  },
  {
   "cell_type": "code",
   "execution_count": 69,
   "id": "0bdfe151",
   "metadata": {
    "papermill": {
     "duration": 0.055983,
     "end_time": "2024-01-16T16:45:35.681754",
     "exception": false,
     "start_time": "2024-01-16T16:45:35.625771",
     "status": "completed"
    },
    "tags": []
   },
   "outputs": [
    {
     "data": {
      "text/plain": [
       "((1311,), (562,))"
      ]
     },
     "execution_count": 69,
     "metadata": {},
     "output_type": "execute_result"
    }
   ],
   "source": [
    "y_train.shape,y_test.shape"
   ]
  },
  {
   "cell_type": "markdown",
   "id": "cd629eb1",
   "metadata": {
    "papermill": {
     "duration": 0.044737,
     "end_time": "2024-01-16T16:45:35.771844",
     "exception": false,
     "start_time": "2024-01-16T16:45:35.727107",
     "status": "completed"
    },
    "tags": []
   },
   "source": [
    "###"
   ]
  },
  {
   "cell_type": "markdown",
   "id": "4885bf89",
   "metadata": {
    "papermill": {
     "duration": 0.044927,
     "end_time": "2024-01-16T16:45:35.863197",
     "exception": false,
     "start_time": "2024-01-16T16:45:35.818270",
     "status": "completed"
    },
    "tags": []
   },
   "source": [
    "## Check for multicollinearity"
   ]
  },
  {
   "cell_type": "code",
   "execution_count": 70,
   "id": "ff52c55f",
   "metadata": {
    "papermill": {
     "duration": 0.589805,
     "end_time": "2024-01-16T16:45:36.498459",
     "exception": false,
     "start_time": "2024-01-16T16:45:35.908654",
     "status": "completed"
    },
    "scrolled": true,
    "tags": []
   },
   "outputs": [
    {
     "data": {
      "text/plain": [
       "<Axes: >"
      ]
     },
     "execution_count": 70,
     "metadata": {},
     "output_type": "execute_result"
    },
    {
     "data": {
      "image/png": "[encoded data removed]",
      "text/plain": [
       "<Figure size 1000x800 with 2 Axes>"
      ]
     },
     "metadata": {},
     "output_type": "display_data"
    }
   ],
   "source": [
    "plt.figure(figsize=(10,8))\n",
    "corr=X_train.corr()\n",
    "sns.heatmap(corr,annot=True)"
   ]
  },
  {
   "cell_type": "markdown",
   "id": "b4c14de0",
   "metadata": {
    "papermill": {
     "duration": 0.051387,
     "end_time": "2024-01-16T16:45:36.596561",
     "exception": false,
     "start_time": "2024-01-16T16:45:36.545174",
     "status": "completed"
    },
    "tags": []
   },
   "source": [
    "###"
   ]
  },
  {
   "cell_type": "markdown",
   "id": "daecb9f7",
   "metadata": {
    "papermill": {
     "duration": 0.045624,
     "end_time": "2024-01-16T16:45:36.687918",
     "exception": false,
     "start_time": "2024-01-16T16:45:36.642294",
     "status": "completed"
    },
    "tags": []
   },
   "source": [
    "## Feature Scaling Or Standardization"
   ]
  },
  {
   "cell_type": "code",
   "execution_count": 74,
   "id": "618ec555-a080-41d3-917b-6829120bf070",
   "metadata": {},
   "outputs": [
    {
     "data": {
      "text/plain": [
       "<Axes: xlabel='car_brand_score', ylabel='Density'>"
      ]
     },
     "execution_count": 74,
     "metadata": {},
     "output_type": "execute_result"
    },
    {
     "data": {
      "image/png": "[encoded data removed]",
      "text/plain": [
       "<Figure size 640x480 with 1 Axes>"
      ]
     },
     "metadata": {},
     "output_type": "display_data"
    }
   ],
   "source": [
    "sns.distplot(df[\"car_brand_score\"])"
   ]
  },
  {
   "cell_type": "code",
   "execution_count": 75,
   "id": "5c7cafc3",
   "metadata": {
    "papermill": {
     "duration": 0.066162,
     "end_time": "2024-01-16T16:45:36.800422",
     "exception": false,
     "start_time": "2024-01-16T16:45:36.734260",
     "status": "completed"
    },
    "tags": []
   },
   "outputs": [],
   "source": [
    "from sklearn.preprocessing import StandardScaler\n",
    "scaler=StandardScaler()\n",
    "X_train_scaled=scaler.fit_transform(X_train)\n",
    "X_test_scaled=scaler.transform(X_test)"
   ]
  },
  {
   "cell_type": "code",
   "execution_count": 76,
   "id": "2e92a9c8",
   "metadata": {
    "papermill": {
     "duration": 0.059732,
     "end_time": "2024-01-16T16:45:36.906552",
     "exception": false,
     "start_time": "2024-01-16T16:45:36.846820",
     "status": "completed"
    },
    "tags": []
   },
   "outputs": [
    {
     "data": {
      "text/plain": [
       "array([[ 1.41790156, -0.70707573, -1.43634401,  1.43634401,  0.        ,\n",
       "        -0.7317769 ],\n",
       "       [-0.33057992, -0.34789232,  0.69621205, -0.69621205,  0.        ,\n",
       "        -1.11112032],\n",
       "       [-0.44714535,  0.45191026, -1.43634401,  1.43634401,  0.        ,\n",
       "         1.54428363],\n",
       "       ...,\n",
       "       [-0.33057992,  0.15070622,  0.69621205, -0.69621205,  0.        ,\n",
       "         0.40625337],\n",
       "       [-0.33057992, -0.15454755,  0.69621205, -0.69621205,  0.        ,\n",
       "         0.78559679],\n",
       "       [-1.72936511, -0.49035477, -1.43634401,  1.43634401,  0.        ,\n",
       "         1.16494021]])"
      ]
     },
     "execution_count": 76,
     "metadata": {},
     "output_type": "execute_result"
    }
   ],
   "source": [
    "X_train_scaled"
   ]
  },
  {
   "cell_type": "markdown",
   "id": "92b58684",
   "metadata": {
    "papermill": {
     "duration": 0.140214,
     "end_time": "2024-01-16T16:45:37.092592",
     "exception": false,
     "start_time": "2024-01-16T16:45:36.952378",
     "status": "completed"
    },
    "tags": []
   },
   "source": [
    "- ### Box Plots To understand Effect Of Standard Scaler"
   ]
  },
  {
   "cell_type": "code",
   "execution_count": 75,
   "id": "6777085d",
   "metadata": {
    "execution": {
     "iopub.execute_input": "2024-01-16T16:45:37.190567Z",
     "iopub.status.busy": "2024-01-16T16:45:37.189413Z",
     "iopub.status.idle": "2024-01-16T16:45:38.014930Z",
     "shell.execute_reply": "2024-01-16T16:45:38.013538Z"
    },
    "papermill": {
     "duration": 0.877864,
     "end_time": "2024-01-16T16:45:38.017642",
     "exception": false,
     "start_time": "2024-01-16T16:45:37.139778",
     "status": "completed"
    },
    "scrolled": true,
    "tags": []
   },
   "outputs": [
    {
     "data": {
      "text/plain": [
       "Text(0.5, 1.0, 'X_train After Scaling')"
      ]
     },
     "execution_count": 75,
     "metadata": {},
     "output_type": "execute_result"
    },
    {
     "data": {
      "image/png": "[encoded data removed]",
      "text/plain": [
       "<Figure size 2500x600 with 2 Axes>"
      ]
     },
     "metadata": {},
     "output_type": "display_data"
    }
   ],
   "source": [
    "plt.subplots(figsize=(25, 6))\n",
    "plt.subplot(1, 2, 1)\n",
    "sns.boxplot(data=X_train)\n",
    "plt.title('X_train Before Scaling')\n",
    "plt.subplot(1, 2, 2)\n",
    "sns.boxplot(data=X_train_scaled)\n",
    "plt.title('X_train After Scaling')"
   ]
  },
  {
   "cell_type": "markdown",
   "id": "69cd565e",
   "metadata": {
    "papermill": {
     "duration": 0.049375,
     "end_time": "2024-01-16T16:45:38.116212",
     "exception": false,
     "start_time": "2024-01-16T16:45:38.066837",
     "status": "completed"
    },
    "tags": []
   },
   "source": [
    "###"
   ]
  },
  {
   "cell_type": "markdown",
   "id": "564e0df3",
   "metadata": {
    "papermill": {
     "duration": 0.049245,
     "end_time": "2024-01-16T16:45:38.213736",
     "exception": false,
     "start_time": "2024-01-16T16:45:38.164491",
     "status": "completed"
    },
    "tags": []
   },
   "source": [
    "## Model Selection"
   ]
  },
  {
   "cell_type": "markdown",
   "id": "2ca12082",
   "metadata": {
    "papermill": {
     "duration": 0.048858,
     "end_time": "2024-01-16T16:45:38.313695",
     "exception": false,
     "start_time": "2024-01-16T16:45:38.264837",
     "status": "completed"
    },
    "tags": []
   },
   "source": [
    "- ### Linear Regression"
   ]
  },
  {
   "cell_type": "code",
   "execution_count": 77,
   "id": "6d7de4e6",
   "metadata": {
    "papermill": {
     "duration": 0.500317,
     "end_time": "2024-01-16T16:45:38.862471",
     "exception": false,
     "start_time": "2024-01-16T16:45:38.362154",
     "status": "completed"
    },
    "tags": []
   },
   "outputs": [
    {
     "name": "stdout",
     "output_type": "stream",
     "text": [
      "Mean absolute error 6.151668157961561\n",
      "R2 Score 0.3862143736987046\n"
     ]
    },
    {
     "data": {
      "text/plain": [
       "<matplotlib.collections.PathCollection at 0x15e46dc0dd0>"
      ]
     },
     "execution_count": 77,
     "metadata": {},
     "output_type": "execute_result"
    },
    {
     "data": {
      "image/png": "[encoded data removed]",
      "text/plain": [
       "<Figure size 640x480 with 1 Axes>"
      ]
     },
     "metadata": {},
     "output_type": "display_data"
    }
   ],
   "source": [
    "from sklearn.linear_model import LinearRegression\n",
    "from sklearn.metrics import mean_absolute_error\n",
    "from sklearn.metrics import r2_score\n",
    "\n",
    "# Initializing the Linear Regression\n",
    "linreg=LinearRegression()\n",
    "\n",
    "# Training the model on the training set\n",
    "linreg.fit(X_train_scaled,y_train)\n",
    "\n",
    "# Making predictions on the testing set\n",
    "y_pred=linreg.predict(X_test_scaled)\n",
    "\n",
    "# Evaluating the model\n",
    "mae=mean_absolute_error(y_test,y_pred)\n",
    "score=r2_score(y_test,y_pred)\n",
    "\n",
    "print(\"Mean absolute error\", mae)\n",
    "print(\"R2 Score\", score)\n",
    "\n",
    "plt.scatter(y_test,y_pred)"
   ]
  },
  {
   "cell_type": "markdown",
   "id": "94e1c274",
   "metadata": {
    "papermill": {
     "duration": 0.049092,
     "end_time": "2024-01-16T16:45:38.961212",
     "exception": false,
     "start_time": "2024-01-16T16:45:38.912120",
     "status": "completed"
    },
    "tags": []
   },
   "source": [
    "###"
   ]
  },
  {
   "cell_type": "markdown",
   "id": "7420489f",
   "metadata": {
    "papermill": {
     "duration": 0.04887,
     "end_time": "2024-01-16T16:45:39.059560",
     "exception": false,
     "start_time": "2024-01-16T16:45:39.010690",
     "status": "completed"
    },
    "tags": []
   },
   "source": [
    "- ### Lasso Regression"
   ]
  },
  {
   "cell_type": "code",
   "execution_count": 78,
   "id": "4358373a",
   "metadata": {
    "papermill": {
     "duration": 0.349289,
     "end_time": "2024-01-16T16:45:39.460446",
     "exception": false,
     "start_time": "2024-01-16T16:45:39.111157",
     "status": "completed"
    },
    "tags": []
   },
   "outputs": [
    {
     "name": "stdout",
     "output_type": "stream",
     "text": [
      "Mean absolute error 5.9237474121956435\n",
      "R2 Score 0.3465123789127137\n"
     ]
    },
    {
     "data": {
      "text/plain": [
       "<matplotlib.collections.PathCollection at 0x15e46e59c10>"
      ]
     },
     "execution_count": 78,
     "metadata": {},
     "output_type": "execute_result"
    },
    {
     "data": {
      "image/png": "[encoded data removed]",
      "text/plain": [
       "<Figure size 640x480 with 1 Axes>"
      ]
     },
     "metadata": {},
     "output_type": "display_data"
    }
   ],
   "source": [
    "from sklearn.linear_model import Lasso\n",
    "\n",
    "# Initializing the Lasso\n",
    "lasso=Lasso()\n",
    "\n",
    "# Training the model on the training set\n",
    "lasso.fit(X_train_scaled,y_train)\n",
    "y_pred=lasso.predict(X_test_scaled)\n",
    "\n",
    "# Making predictions on the testing set\n",
    "mae=mean_absolute_error(y_test,y_pred)\n",
    "\n",
    "# Evaluating the model\n",
    "score=r2_score(y_test,y_pred)\n",
    "\n",
    "print(\"Mean absolute error\", mae)\n",
    "print(\"R2 Score\", score)\n",
    "\n",
    "plt.scatter(y_test,y_pred)\n"
   ]
  },
  {
   "cell_type": "markdown",
   "id": "97555f79",
   "metadata": {
    "papermill": {
     "duration": 0.050204,
     "end_time": "2024-01-16T16:45:39.562014",
     "exception": false,
     "start_time": "2024-01-16T16:45:39.511810",
     "status": "completed"
    },
    "tags": []
   },
   "source": [
    "###"
   ]
  },
  {
   "cell_type": "markdown",
   "id": "05ccbcc0",
   "metadata": {
    "papermill": {
     "duration": 0.050392,
     "end_time": "2024-01-16T16:45:39.662614",
     "exception": false,
     "start_time": "2024-01-16T16:45:39.612222",
     "status": "completed"
    },
    "tags": []
   },
   "source": [
    "- ### KNN"
   ]
  },
  {
   "cell_type": "code",
   "execution_count": 79,
   "id": "91db4bfd",
   "metadata": {
    "papermill": {
     "duration": 0.442657,
     "end_time": "2024-01-16T16:45:40.155220",
     "exception": false,
     "start_time": "2024-01-16T16:45:39.712563",
     "status": "completed"
    },
    "tags": []
   },
   "outputs": [
    {
     "name": "stdout",
     "output_type": "stream",
     "text": [
      "Mean absolute error 4.318487544483985\n",
      "R2 Score 0.5596602693134348\n"
     ]
    },
    {
     "data": {
      "text/plain": [
       "<matplotlib.collections.PathCollection at 0x15e46dedb20>"
      ]
     },
     "execution_count": 79,
     "metadata": {},
     "output_type": "execute_result"
    },
    {
     "data": {
      "image/png": "[encoded data removed]",
      "text/plain": [
       "<Figure size 640x480 with 1 Axes>"
      ]
     },
     "metadata": {},
     "output_type": "display_data"
    }
   ],
   "source": [
    "from sklearn.neighbors import KNeighborsRegressor\n",
    "\n",
    "# Initializing the KNN regressor\n",
    "knn_regressor = KNeighborsRegressor(n_neighbors=3)  # adjusting the number of neighbors to 3\n",
    "\n",
    "# Training the model on the training set\n",
    "knn_regressor.fit(X_train_scaled, y_train)\n",
    "\n",
    "# Making predictions on the testing set\n",
    "y_pred = knn_regressor.predict(X_test_scaled)\n",
    "\n",
    "# Evaluating the model\n",
    "mae=mean_absolute_error(y_test,y_pred)\n",
    "score=r2_score(y_test,y_pred)\n",
    "\n",
    "print(\"Mean absolute error\", mae)\n",
    "print(\"R2 Score\", score)\n",
    "\n",
    "plt.scatter(y_test,y_pred)\n"
   ]
  },
  {
   "cell_type": "markdown",
   "id": "8282f095",
   "metadata": {
    "papermill": {
     "duration": 0.049071,
     "end_time": "2024-01-16T16:45:40.254868",
     "exception": false,
     "start_time": "2024-01-16T16:45:40.205797",
     "status": "completed"
    },
    "tags": []
   },
   "source": [
    "###"
   ]
  },
  {
   "cell_type": "markdown",
   "id": "31667665",
   "metadata": {
    "papermill": {
     "duration": 0.049159,
     "end_time": "2024-01-16T16:45:40.354430",
     "exception": false,
     "start_time": "2024-01-16T16:45:40.305271",
     "status": "completed"
    },
    "tags": []
   },
   "source": [
    "- ### AdaBoost"
   ]
  },
  {
   "cell_type": "code",
   "execution_count": 80,
   "id": "ad32ba74",
   "metadata": {
    "papermill": {
     "duration": 0.473237,
     "end_time": "2024-01-16T16:45:40.878087",
     "exception": false,
     "start_time": "2024-01-16T16:45:40.404850",
     "status": "completed"
    },
    "tags": []
   },
   "outputs": [
    {
     "name": "stdout",
     "output_type": "stream",
     "text": [
      "Mean absolute error 6.3588112660982965\n",
      "R2 Score 0.4093798048139835\n"
     ]
    },
    {
     "data": {
      "text/plain": [
       "<matplotlib.collections.PathCollection at 0x15e46e58680>"
      ]
     },
     "execution_count": 80,
     "metadata": {},
     "output_type": "execute_result"
    },
    {
     "data": {
      "image/png": "[encoded data removed]",
      "text/plain": [
       "<Figure size 640x480 with 1 Axes>"
      ]
     },
     "metadata": {},
     "output_type": "display_data"
    }
   ],
   "source": [
    "from sklearn.ensemble import AdaBoostRegressor\n",
    "from sklearn.tree import DecisionTreeRegressor\n",
    "\n",
    "# Initializing a base regressor (e.g., Decision Tree Regressor)\n",
    "base_regressor = DecisionTreeRegressor(max_depth=1) # adjusting Weak learner, as needed\n",
    "\n",
    "# Initializing the AdaBoost regressor\n",
    "adaboost_regressor = AdaBoostRegressor(base_regressor, n_estimators=50, random_state=42)\n",
    "\n",
    "# Train the model on the training set\n",
    "adaboost_regressor.fit(X_train_scaled, y_train)\n",
    "\n",
    "# Make predictions on the testing set\n",
    "y_pred = adaboost_regressor.predict(X_test_scaled)\n",
    "\n",
    "# Evaluating the model\n",
    "mae=mean_absolute_error(y_test,y_pred)\n",
    "score=r2_score(y_test,y_pred)\n",
    "\n",
    "print(\"Mean absolute error\", mae)\n",
    "print(\"R2 Score\", score)\n",
    "\n",
    "plt.scatter(y_test,y_pred)\n"
   ]
  },
  {
   "cell_type": "markdown",
   "id": "8764ecf0",
   "metadata": {
    "papermill": {
     "duration": 0.04943,
     "end_time": "2024-01-16T16:45:40.977531",
     "exception": false,
     "start_time": "2024-01-16T16:45:40.928101",
     "status": "completed"
    },
    "tags": []
   },
   "source": [
    "##"
   ]
  },
  {
   "cell_type": "markdown",
   "id": "bc313585",
   "metadata": {
    "papermill": {
     "duration": 0.049045,
     "end_time": "2024-01-16T16:45:41.075876",
     "exception": false,
     "start_time": "2024-01-16T16:45:41.026831",
     "status": "completed"
    },
    "tags": []
   },
   "source": [
    "- ### Random Forest Regression"
   ]
  },
  {
   "cell_type": "code",
   "execution_count": 81,
   "id": "0991f32b",
   "metadata": {
    "papermill": {
     "duration": 0.762471,
     "end_time": "2024-01-16T16:45:41.888618",
     "exception": false,
     "start_time": "2024-01-16T16:45:41.126147",
     "status": "completed"
    },
    "tags": []
   },
   "outputs": [
    {
     "name": "stdout",
     "output_type": "stream",
     "text": [
      "Mean absolute error 3.618410943060498\n",
      "R2 Score 0.7086744613846266\n"
     ]
    },
    {
     "data": {
      "text/plain": [
       "<matplotlib.collections.PathCollection at 0x15e492fddf0>"
      ]
     },
     "execution_count": 81,
     "metadata": {},
     "output_type": "execute_result"
    },
    {
     "data": {
      "image/png": "[encoded data removed]",
      "text/plain": [
       "<Figure size 640x480 with 1 Axes>"
      ]
     },
     "metadata": {},
     "output_type": "display_data"
    }
   ],
   "source": [
    "from sklearn.ensemble import RandomForestRegressor\n",
    "\n",
    "# Initializing the Random Forest Regressor\n",
    "rf = RandomForestRegressor(n_estimators=100, random_state=42)\n",
    "\n",
    "# Training the model on the training set\n",
    "rf.fit(X_train_scaled, y_train)\n",
    "\n",
    "# Making predictions on the testing set\n",
    "y_pred = rf.predict(X_test_scaled)\n",
    "\n",
    "# Evaluating the model\n",
    "mae=mean_absolute_error(y_test,y_pred)\n",
    "score=r2_score(y_test,y_pred)\n",
    "\n",
    "print(\"Mean absolute error\", mae)\n",
    "print(\"R2 Score\", score)\n",
    "\n",
    "plt.scatter(y_test,y_pred)"
   ]
  },
  {
   "cell_type": "markdown",
   "id": "18bed544",
   "metadata": {
    "papermill": {
     "duration": 0.053285,
     "end_time": "2024-01-16T16:45:41.994448",
     "exception": false,
     "start_time": "2024-01-16T16:45:41.941163",
     "status": "completed"
    },
    "tags": []
   },
   "source": [
    "#### Selecting \"Random Forest Regressor\" for ML model, as it performed well out of all"
   ]
  },
  {
   "cell_type": "markdown",
   "id": "6a7ac7d1",
   "metadata": {
    "papermill": {
     "duration": 0.049782,
     "end_time": "2024-01-16T16:45:42.094360",
     "exception": false,
     "start_time": "2024-01-16T16:45:42.044578",
     "status": "completed"
    },
    "tags": []
   },
   "source": [
    "## Creating ML Model using Random Forest Regressor"
   ]
  },
  {
   "cell_type": "code",
   "execution_count": 82,
   "id": "9abcb34f",
   "metadata": {
    "papermill": {
     "duration": 0.787597,
     "end_time": "2024-01-16T16:45:42.933033",
     "exception": false,
     "start_time": "2024-01-16T16:45:42.145436",
     "status": "completed"
    },
    "tags": []
   },
   "outputs": [
    {
     "name": "stdout",
     "output_type": "stream",
     "text": [
      "Mean absolute error 3.618410943060498\n",
      "R2 Score 0.7086744613846266\n"
     ]
    },
    {
     "data": {
      "image/png": "[encoded data removed]",
      "text/plain": [
       "<Figure size 640x480 with 1 Axes>"
      ]
     },
     "metadata": {},
     "output_type": "display_data"
    }
   ],
   "source": [
    "import pickle # To save model for future use\n",
    "\n",
    "from sklearn.ensemble import RandomForestRegressor\n",
    "\n",
    "# Initializing the Random Forest Regressor\n",
    "model = RandomForestRegressor(n_estimators=100, random_state=42)\n",
    "\n",
    "# Training the model on the training set\n",
    "model.fit(X_train_scaled, y_train)\n",
    "\n",
    "# Making predictions on the testing set\n",
    "y_pred = model.predict(X_test_scaled)\n",
    "\n",
    "# Evaluating the model\n",
    "mae=mean_absolute_error(y_test,y_pred)\n",
    "score=r2_score(y_test,y_pred)\n",
    "\n",
    "print(\"Mean absolute error\", mae)\n",
    "print(\"R2 Score\", score)\n",
    "\n",
    "plt.scatter(y_test,y_pred)\n",
    "\n",
    "pickle.dump(model , open('car_price.pk1' , 'wb'))"
   ]
  },
  {
   "cell_type": "markdown",
   "id": "79dbc694",
   "metadata": {
    "papermill": {
     "duration": 0.055017,
     "end_time": "2024-01-16T16:45:43.042660",
     "exception": false,
     "start_time": "2024-01-16T16:45:42.987643",
     "status": "completed"
    },
    "tags": []
   },
   "source": [
    "## Making Predications"
   ]
  },
  {
   "cell_type": "code",
   "execution_count": 83,
   "id": "0669edc4",
   "metadata": {
    "papermill": {
     "duration": 0.111501,
     "end_time": "2024-01-16T16:45:43.208538",
     "exception": false,
     "start_time": "2024-01-16T16:45:43.097037",
     "status": "completed"
    },
    "tags": []
   },
   "outputs": [
    {
     "name": "stdout",
     "output_type": "stream",
     "text": [
      "Car Price Model Accuracy: 70.86744613846267 %\n"
     ]
    }
   ],
   "source": [
    "import pickle\n",
    "\n",
    "car_price_model = pickle.load(open('car_price.pk1' , 'rb'))\n",
    "\n",
    "car_price_model_accuracy = car_price_model.score(X_test_scaled, y_test)\n",
    "\n",
    "print(\"Car Price Model Accuracy:\" , car_price_model_accuracy * 100 , \"%\")"
   ]
  },
  {
   "cell_type": "code",
   "execution_count": null,
   "id": "19239dc0-0463-41c3-9697-8e1dea25188f",
   "metadata": {},
   "outputs": [],
   "source": []
  }
 ],
 "metadata": {
  "kaggle": {
   "accelerator": "none",
   "dataSources": [
    {
     "datasetId": 2840264,
     "sourceId": 4897786,
     "sourceType": "datasetVersion"
    }
   ],
   "dockerImageVersionId": 30635,
   "isGpuEnabled": false,
   "isInternetEnabled": false,
   "language": "python",
   "sourceType": "notebook"
  },
  "kernelspec": {
   "display_name": "Python 3 (ipykernel)",
   "language": "python",
   "name": "python3"
  },
  "language_info": {
   "codemirror_mode": {
    "name": "ipython",
    "version": 3
   },
   "file_extension": ".py",
   "mimetype": "text/x-python",
   "name": "python",
   "nbconvert_exporter": "python",
   "pygments_lexer": "ipython3",
   "version": "3.12.7"
  },
  "papermill": {
   "default_parameters": {},
   "duration": 27.004203,
   "end_time": "2024-01-16T16:45:44.287722",
   "environment_variables": {},
   "exception": null,
   "input_path": "__notebook__.ipynb",
   "output_path": "__notebook__.ipynb",
   "parameters": {},
   "start_time": "2024-01-16T16:45:17.283519",
   "version": "2.4.0"
  }
 },
 "nbformat": 4,
 "nbformat_minor": 5
}
